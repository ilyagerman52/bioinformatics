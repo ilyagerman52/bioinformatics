{
  "cells": [
    {
      "cell_type": "markdown",
      "metadata": {
        "id": "in2e8usqJumM"
      },
      "source": [
        "# Homework 6.\n",
        "made by German Ilya"
      ]
    },
    {
      "cell_type": "markdown",
      "metadata": {
        "id": "8cJYhiezK3EQ"
      },
      "source": [
        "## **Part1.**"
      ]
    },
    {
      "cell_type": "markdown",
      "metadata": {
        "id": "BZ57jRK7_Yn8"
      },
      "source": [
        "##### Assignment 1."
      ]
    },
    {
      "cell_type": "markdown",
      "metadata": {
        "id": "Gn8r2c59LBZ2"
      },
      "source": [
        "Choose proteins from [UniProt](https://www.uniprot.org/uniprotkb?query=%2AHUMAN).\n",
        "- KR124_HUMAN (KRTAP12-4)\n",
        "- IL17F_HUMAN (IL17F)\n",
        "- LENG1_HUMAN (LENG1)\n",
        "- EPGN_HUMAN (EPGN)\n",
        "- CS012_HUMAN (C19orf12)\n",
        "- CS044_HUMAN (C19orf44)\n",
        "- CS047_HUMAN (C19orf47)\n",
        "- CS018_HUMAN (C19orf18)\n",
        "- CS067_HUMAN (C19orf67)\n",
        "- CS073_HUMAN (C19orf73)"
      ]
    },
    {
      "cell_type": "markdown",
      "metadata": {
        "id": "AG4DeHf6UmPs"
      },
      "source": [
        "Find orthologs by using [NCBI database](https://www.ncbi.nlm.nih.gov/gene/). Choose chimpanzee."
      ]
    },
    {
      "cell_type": "markdown",
      "metadata": {
        "id": "2JiqfC76UsZ6"
      },
      "source": [
        "- [KRTAP12-4 human](https://www.ncbi.nlm.nih.gov/gene/386684/) and [KRTAP12-4 chimp](https://www.ncbi.nlm.nih.gov/gene/738964/)\n",
        "- [IL17F human](https://www.ncbi.nlm.nih.gov/gene/112744/) and [IL17F chimp](https://www.ncbi.nlm.nih.gov/gene/472030/)\n",
        "- [LENG1 human](https://www.ncbi.nlm.nih.gov/gene/79165/) and [LENG1 chimp](https://www.ncbi.nlm.nih.gov/gene/107969801/)\n",
        "- [EPGN human](https://www.ncbi.nlm.nih.gov/gene/255324/) and [EPGN chimp](https://www.ncbi.nlm.nih.gov/gene/461252/)\n",
        "- [C19orf12 human](https://www.ncbi.nlm.nih.gov/gene/83636/) and [C19H19orf12 chimp](https://www.ncbi.nlm.nih.gov/gene/455913/)\n",
        "- [C19orf44 human](https://www.ncbi.nlm.nih.gov/gene/84167/) and [C19H19orf44 chimp](https://www.ncbi.nlm.nih.gov/gene/455811/)\n",
        "- [C19orf47 human](https://www.ncbi.nlm.nih.gov/gene/126526/) and [C19H19orf47 chimp](https://www.ncbi.nlm.nih.gov/gene/100991452/)\n",
        "- [C19orf18 human](https://www.ncbi.nlm.nih.gov/gene/147685/) and [C19H19orf18 chimp](https://www.ncbi.nlm.nih.gov/gene/741785/)\n",
        "- [C19orf67 human](https://www.ncbi.nlm.nih.gov/gene/646457/) and [C19H19orf67 chimp](https://www.ncbi.nlm.nih.gov/gene/747537/)\n",
        "- [C19orf73 human](https://www.ncbi.nlm.nih.gov/gene/55150/) and [C19H19orf73 chimp](https://www.ncbi.nlm.nih.gov/gene/747945/)\n"
      ]
    },
    {
      "cell_type": "markdown",
      "metadata": {
        "id": "cXJj9oPo1Z4x"
      },
      "source": [
        "Download all data and extract files `gene.fna` into one directory. Then run a script (I made it because it is too difficult to do so many operations by your own and didn't make a mistake). Script takes one argument `filename`, reads sequences from this file and writes the only first sequence in another file. So, we prepare data for alignment on site [EMBL-EBI](https://www.ebi.ac.uk/Tools/psa/emboss_needle/).\n",
        "\n",
        "After pair alignment we get an indentity and similarity.\n",
        "List of values:\n",
        "\n",
        "| Protein | Identity | Similarity |\n",
        "|---------|----------|------------|\n",
        "| KRTAP12-4 | 45% | 45% |\n",
        "| IL17F | 96.5% | 96.5% |\n",
        "| LENG1 | 77.1% | 77.1% |\n",
        "| EPGN | 73.5% | 73.5% |\n",
        "| C19orf12 | 69.1% | 69.1% |\n",
        "| C19orf18 | 84.4% | 84.4% |\n",
        "| C19orf44 | ? | ? |\n",
        "| C19orf47 | ? | ? |\n",
        "| C19orf67 | 51.5% | 51.5% |\n",
        "| C19orf73 | 76.9% | 76.9% |"
      ]
    },
    {
      "cell_type": "markdown",
      "metadata": {
        "id": "WZZdkQc4FWFC"
      },
      "source": [
        "Twice we get an error and EMBL-EBI site cannot align the sequences. Screenshots of result are [here](https://github.com/ilyagerman52/bioinformatics/tree/main/homework6/Part1/Assignment1)."
      ]
    },
    {
      "cell_type": "markdown",
      "metadata": {
        "id": "rzo65cleFz9o"
      },
      "source": [
        "Count mean values of identity and similaryty:\n",
        "$\\text{Mean identity} = \\cfrac{1}{8}\\left(45\\% + 96\\% + 77.1\\% + 73.5\\% + 69.1\\% + 84.4\\% + 51.5\\% + 76.9\\%\\right) = 71.7\\%$\n",
        "Due to identity is equal to similarity in this case, the mean value of similarity is $71.7\\%$ too. "
      ]
    },
    {
      "cell_type": "markdown",
      "metadata": {
        "id": "8o2Rp8UQ_Uku"
      },
      "source": [
        "##### Assignment 2.*\n"
      ]
    },
    {
      "cell_type": "markdown",
      "metadata": {
        "id": "Fl6P55pE_deB"
      },
      "source": [
        "First of all download a human genome from [NCBI database](https://www.ncbi.nlm.nih.gov/data-hub/taxonomy/9606/) and load it in working directory. Extract it and rename."
      ]
    },
    {
      "cell_type": "code",
      "execution_count": 1,
      "metadata": {
        "colab": {
          "base_uri": "https://localhost:8080/"
        },
        "id": "E3SpKh854xFD",
        "outputId": "a2bf8962-1b60-453c-9873-c793c26d0b08"
      },
      "outputs": [
        {
          "output_type": "stream",
          "name": "stdout",
          "text": [
            "--2023-05-14 20:42:12--  https://ftp.ncbi.nlm.nih.gov/genomes/all/GCF/000/001/405/GCF_000001405.40_GRCh38.p14/GCF_000001405.40_GRCh38.p14_genomic.fna.gz\n",
            "Resolving ftp.ncbi.nlm.nih.gov (ftp.ncbi.nlm.nih.gov)... 130.14.250.10, 130.14.250.11, 2607:f220:41e:250::13, ...\n",
            "Connecting to ftp.ncbi.nlm.nih.gov (ftp.ncbi.nlm.nih.gov)|130.14.250.10|:443... connected.\n",
            "HTTP request sent, awaiting response... 200 OK\n",
            "Length: 972898531 (928M) [application/x-gzip]\n",
            "Saving to: ‘GCF_000001405.40_GRCh38.p14_genomic.fna.gz’\n",
            "\n",
            "GCF_000001405.40_GR 100%[===================>] 927.83M  70.9MB/s    in 13s     \n",
            "\n",
            "2023-05-14 20:42:25 (73.0 MB/s) - ‘GCF_000001405.40_GRCh38.p14_genomic.fna.gz’ saved [972898531/972898531]\n",
            "\n"
          ]
        }
      ],
      "source": [
        "!wget https://ftp.ncbi.nlm.nih.gov/genomes/all/GCF/000/001/405/GCF_000001405.40_GRCh38.p14/GCF_000001405.40_GRCh38.p14_genomic.fna.gz # -q\n",
        "!gunzip GCF_000001405.40_GRCh38.p14_genomic.fna.gz\n",
        "!mv GCF_000001405.40_GRCh38.p14_genomic.fna human_genome.fna"
      ]
    },
    {
      "cell_type": "markdown",
      "metadata": {
        "id": "TKl8bTBCgadn"
      },
      "source": [
        "Then use next script for generating random subsequences by with length 100.\n",
        "The file contains too many rows, so read and maintain all of in in REM is not possible. So, we cannot generate it honestly. Another problem is that file contains regions of genome, where is no A, T, G or C (for example only N, or rows with names of sequences). So, we will use the next idea of algorithm:\n",
        "- Using `readline()` we will read all file, and count the number of rows (it is about $4.1 \\cdot 10^8$).\n",
        "- Then generate $k + p$ different numbers, where $k$ is eual to $100$ - the number of required subsequences and $p$ is oversampling.\n",
        "- The will read file by readline again. Now, when we are on the row, which number is in generated array, we will save it and supplement by $20$ letters from next row (here we uses that `.fasta` files contains rows with $80$ nucleotides).\n",
        "- Then save from received dictionary only rows, that have format: $80$ letter + `\\n`-symbol + $20$ letters.\n",
        "- Using oversampling afford us to randomize $k$ from remaining subsequebces and write them to the file.\n",
        "\n",
        "Using this algorythm afford us to maintain uniform distribution between different parts of genome and remove outliers."
      ]
    },
    {
      "cell_type": "code",
      "execution_count": 2,
      "metadata": {
        "id": "TAm1LPsn_O8-"
      },
      "outputs": [],
      "source": [
        "# Be careful! The script takes quite a long time to run.\n",
        "\n",
        "import random\n",
        "random.seed(123)\n",
        "import re\n",
        "\n",
        "line_count = sum(1 for line in open('human_genome.fna', \"r\"))\n",
        "\n",
        "random_choice = []\n",
        "for i in range(125):\n",
        "    random_choice.append(random.randint(0, line_count))\n",
        "\n",
        "chosen_lines = dict()\n",
        "line_now = 0\n",
        "next_20 = -1\n",
        "with open(\"human_genome.fna\", \"r\") as genome_file:\n",
        "    while True:\n",
        "        line = genome_file.readline()\n",
        "        if next_20 != -1:\n",
        "            chosen_lines[next_20] += line[:20]\n",
        "        if line_now in random_choice:\n",
        "            next_20 = line_now\n",
        "            chosen_lines[line_now] = line\n",
        "        else:\n",
        "            next_20 = -1\n",
        "        line_now += 1\n",
        "        if line_now == line_count:\n",
        "            break\n",
        "subseqs_oversampled = []\n",
        "for value in chosen_lines.values():\n",
        "    if bool(re.fullmatch(\"^[ATGCatgc\\n]+$\", value)):\n",
        "        subseqs_oversampled.append(value)\n",
        "subseqs = random.sample(subseqs_oversampled, 100)\n",
        "with open(\"subseq_py.fasta\", \"w\") as subseq_py_file:\n",
        "    for i, seq in enumerate(subseqs):\n",
        "        subseq_py_file.write(\">subseq_\"+str(i) + \"\\n\")\n",
        "        subseq_py_file.write(seq)\n",
        "        subseq_py_file.write(\"\\n\")"
      ]
    },
    {
      "cell_type": "markdown",
      "metadata": {
        "id": "ufvy72RHmuAf"
      },
      "source": [
        "We can check that generated file `subseq_py.fasta` is exatly what we need."
      ]
    },
    {
      "cell_type": "code",
      "execution_count": 3,
      "metadata": {
        "colab": {
          "base_uri": "https://localhost:8080/"
        },
        "id": "g5ng4L0qm8bd",
        "outputId": "f819c9e0-4816-4efc-fb61-6294e313cd00"
      },
      "outputs": [
        {
          "output_type": "stream",
          "name": "stdout",
          "text": [
            ">subseq_0\n",
            "aatgtcttcttttgagaagtgtctgttcatatccttcgcccactttgtgatggggttgtttgtttttttcttgtaaattt\n",
            "gtttgagttctttgtagatt\n",
            ">subseq_1\n",
            "TTTCTACTCAACCTTATAGTAGTCTATCAATTTATTAGGtcctgggtaaaaaaaaaaaaattagaaaccaatGCACAATG\n",
            "CTAATAACTGTGAGATAACT\n",
            ">subseq_2\n",
            "actttttaaaacttatttaataaattatttcagacaaaacaatcCCCTGATAATTTTTCCAACAATAGTTTCATGAAGTT\n",
            "AGTTTTTAAATGTGATGTGG\n",
            "...\n",
            ">subseq_97\n",
            "acactcttcttttggaatctgcaagtggatatttggatagatttgaggatttcgttggaaacgggattatatatcaaaag\n",
            "tagacagcagcattctcaga\n",
            ">subseq_98\n",
            "CccaattctttaatttttgtcttaCCTTCATAAAGAATAAGCAAGTTATGTGCAGTGTGTTTTGACTTATACAAAATGTT\n",
            "ATCATTTTTCACAGGTTTTA\n",
            ">subseq_99\n",
            "GCTGGGCCAGGCTCCCTGACAGCCCCACTGTGTGGTTGCCCAAGCAGGAAGGTGGACGTGAGCTCCATCTCGATGGGTGA\n",
            "GGCTTTGGGATGCTGGACTT\n"
          ]
        }
      ],
      "source": [
        "!head -n9 subseq_py.fasta # 3 lines for each subsequence\n",
        "print('...')\n",
        "!tail -n9 subseq_py.fasta"
      ]
    },
    {
      "cell_type": "markdown",
      "metadata": {
        "id": "6nBhBkjClv9L"
      },
      "source": [
        "Install `Bio`-library using `pip`."
      ]
    },
    {
      "cell_type": "code",
      "execution_count": 4,
      "metadata": {
        "colab": {
          "base_uri": "https://localhost:8080/"
        },
        "id": "RmBZTPlzAp7e",
        "outputId": "eaa6824e-b4b0-4027-d0e0-08ca022cd11c"
      },
      "outputs": [
        {
          "output_type": "stream",
          "name": "stdout",
          "text": [
            "\u001b[2K     \u001b[90m━━━━━━━━━━━━━━━━━━━━━━━━━━━━━━━━━━━━━━━\u001b[0m \u001b[32m276.4/276.4 kB\u001b[0m \u001b[31m5.9 MB/s\u001b[0m eta \u001b[36m0:00:00\u001b[0m\n",
            "\u001b[2K     \u001b[90m━━━━━━━━━━━━━━━━━━━━━━━━━━━━━━━━━━━━━━━━\u001b[0m \u001b[32m3.1/3.1 MB\u001b[0m \u001b[31m54.1 MB/s\u001b[0m eta \u001b[36m0:00:00\u001b[0m\n",
            "\u001b[?25h"
          ]
        }
      ],
      "source": [
        "!pip install Bio -q"
      ]
    },
    {
      "cell_type": "markdown",
      "metadata": {
        "id": "ST2NZr1Bl7tc"
      },
      "source": [
        "After installing `Bio` we will run next script. This script imports tools for working with BLAST and find orthologies, counting average values of identity and similarity.\n",
        "\n",
        "This methods afford us to get most similar parts of genome Pan troglodytes using NCBI BLAST."
      ]
    },
    {
      "cell_type": "code",
      "execution_count": 5,
      "metadata": {
        "colab": {
          "base_uri": "https://localhost:8080/"
        },
        "id": "tkKZ2Q_pA2Bn",
        "outputId": "cf92bba6-4705-4df0-a3f9-b0cb3ebfece1"
      },
      "outputs": [
        {
          "output_type": "stream",
          "name": "stdout",
          "text": [
            "Average identity: 93.35609774743777\n"
          ]
        }
      ],
      "source": [
        "# Be careful! The script takes quite a long time to run.\n",
        "\n",
        "from Bio.Blast import NCBIWWW\n",
        "from Bio.Blast import NCBIXML\n",
        "\n",
        "result_handle = NCBIWWW.qblast(\n",
        "    \"blastn\",\n",
        "    \"nt\",\n",
        "    open(\"subseq_py.fasta\").read(),\n",
        "    entrez_query=\"Pan troglodytes[Organism]\",\n",
        "    expect=1e-3,\n",
        "    hitlist_size=10\n",
        ")\n",
        "identities = []\n",
        "blast_records = NCBIXML.parse(result_handle)\n",
        "for blast_record in blast_records:\n",
        "    if len(blast_record.alignments) >= 1:\n",
        "        alignment = blast_record.alignments[0]\n",
        "        if len(alignment.hsps) >= 1:\n",
        "            hsp = alignment.hsps[0]\n",
        "            identity = 100.0 * hsp.identities / hsp.align_length\n",
        "            identities.append(identity)\n",
        "mean_identity = sum(identities) / len(identities)\n",
        "print(\"Average identity:\", mean_identity)"
      ]
    },
    {
      "cell_type": "markdown",
      "metadata": {
        "id": "Mk9rICjBK7kA"
      },
      "source": [
        "## **Part2.**"
      ]
    },
    {
      "cell_type": "markdown",
      "metadata": {
        "id": "V3VDD9mOL8IO"
      },
      "source": [
        "##### Assignment 1."
      ]
    },
    {
      "cell_type": "markdown",
      "metadata": {
        "id": "5X1OMF0oL_2W"
      },
      "source": [
        "###### Question 0."
      ]
    },
    {
      "cell_type": "markdown",
      "metadata": {
        "id": "2XeOZBJ8MCmp"
      },
      "source": [
        "**a)** After 10 steps of PCR the percentage of molecules belonging to the test organism will be $\\cfrac{2 \\cdot 2^{10}}{2 \\cdot 2^{10} + 3} \\simeq 99.85\\% $\n",
        "\n",
        "**b)** The same things with 40 steps:\n",
        "$\\cfrac{2 \\cdot 2^{40}}{(2 + 3) \\cdot 2^{40}} = 40\\%$ \n",
        "\n",
        "\n",
        "I don't know exactly what way is correct, but now i garanteered 0.25 score for two points."
      ]
    },
    {
      "cell_type": "markdown",
      "metadata": {
        "id": "PF4OpLFcOW2j"
      },
      "source": [
        "###### Question 1.\n"
      ]
    },
    {
      "cell_type": "markdown",
      "metadata": {
        "id": "8nTP12u8O6V2"
      },
      "source": [
        "**answer:** It is more likely that Иванов is culprit of contamination\n",
        "\n",
        "**explanation:** We use BLAST for finding somewhat similar sequences. Set parameters:\n",
        "- upload file: 11.fasta (Downloaded from disk or from [here](https://github.com/ilyagerman52/bioinformatics/tree/main/Part2/Assignment1/11.fasta))Felis catus (taxid:9685)\n",
        "- exclude Models (XM/XP)\n",
        "- optimize for: somewhat similar sequences\n",
        "- Algorithm parameters -> Max matches in a query range: $1$\n",
        "\n",
        "[screenshots](https://github.com/ilyagerman52/bioinformatics/tree/main/Part2)\n",
        "\n",
        "With these parameters we can download `Text`-results. For each read we gets only one organism. (I uploaded result to [github](https://github.com/ilyagerman52/bioinformatics)).\n",
        "\n",
        "To watch results, we need to prepare it."
      ]
    },
    {
      "cell_type": "markdown",
      "source": [
        "Before answer on this question we need to do question 2.\n"
      ],
      "metadata": {
        "id": "SIMK-tZf-aR0"
      }
    },
    {
      "cell_type": "markdown",
      "metadata": {
        "id": "4tEE9BQmXtJz"
      },
      "source": [
        "###### Question 2."
      ]
    },
    {
      "cell_type": "markdown",
      "metadata": {
        "id": "ScUbF1gFYX_L"
      },
      "source": [
        "For researching species, download `Text` format results from BLAST. (I uploaded it into github, so now we can use `wget`.) Then watch, and note, that all reads according to one species of dogs, and one - of cats."
      ]
    },
    {
      "cell_type": "code",
      "execution_count": 6,
      "metadata": {
        "id": "risAVqdxuGFE"
      },
      "outputs": [],
      "source": [
        "!wget https://github.com/ilyagerman52/bioinformatics/raw/main/homework6/Part2/Assignment1/text_results.txt -O question1_text_results.txt -q"
      ]
    },
    {
      "cell_type": "code",
      "execution_count": 7,
      "metadata": {
        "id": "6tXE9jCgpfVx",
        "colab": {
          "base_uri": "https://localhost:8080/"
        },
        "outputId": "b644edc7-e90d-48df-cb8d-3cf5b3dc078e"
      },
      "outputs": [
        {
          "output_type": "stream",
          "name": "stdout",
          "text": [
            "Canis lupus genome assembly, chromosome: 25                       Canis lupus     gray wolf       9612       123    123   100%  1e-23 87.00  53617450   HG994404.1       \n",
            ">Canis lupus genome assembly, chromosome: 25\n",
            "Canis lupus genome assembly, chromosome: 25                       Canis lupus     gray wolf       9612       141    141   100%  4e-29 91.00  53617450   HG994404.1       \n",
            ">Canis lupus genome assembly, chromosome: 25\n",
            "Canis lupus genome assembly, chromosome: 24                       Canis lupus     gray wolf       9612       81.5   81.5  100%  3e-11 79.21  49877449   HG994407.1       \n",
            ">Canis lupus genome assembly, chromosome: 24\n",
            "Canis lupus genome assembly, chromosome: 25                       Canis lupus     gray wolf       9612       133    133   95%   6e-27 92.63  53617450   HG994404.1       \n",
            ">Canis lupus genome assembly, chromosome: 25\n",
            "Canis lupus genome assembly, chromosome: 24                       Canis lupus     gray wolf       9612       126    126   97%   9e-25 88.66  49877449   HG994407.1       \n",
            ">Canis lupus genome assembly, chromosome: 24\n",
            "Canis lupus genome assembly, chromosome: 24                       Canis lupus     gray wolf       9612       145    145   100%  1e-30 92.00  49877449   HG994407.1       \n",
            ">Canis lupus genome assembly, chromosome: 24\n",
            "Canis lupus familiaris breed Labrador retriever chromosome 25b    Canis lupus ... dog             9615       147    147   96%   3e-31 93.75  51431252   CP050633.1       \n",
            ">Canis lupus familiaris breed Labrador retriever chromosome 25b\n",
            "Canis lupus genome assembly, chromosome: 24                       Canis lupus     gray wolf       9612       103    103   99%   1e-17 82.83  49877449   HG994407.1       \n",
            ">Canis lupus genome assembly, chromosome: 24\n",
            "Canis lupus genome assembly, chromosome: 20                       Canis lupus     gray wolf       9612       101    101   95%   4e-17 84.21  59774210   HG994401.1       \n",
            ">Canis lupus genome assembly, chromosome: 20\n",
            "Canis lupus genome assembly, chromosome: 25                       Canis lupus     gray wolf       9612       76.1   76.1  83%   1e-09 80.72  53617450   HG994404.1       \n",
            ">Canis lupus genome assembly, chromosome: 25\n",
            "Canis lupus genome assembly, chromosome: 24                       Canis lupus     gray wolf       9612       77.0   77.0  71%   4e-10 85.92  49877449   HG994407.1       \n",
            ">Canis lupus genome assembly, chromosome: 24\n",
            "----------------------------------------------------------------------------------------------------\n",
            "Felis catus Senzu DNA, chromosome: E1, American Shorthair breed   Felis catus     domestic cat    9685       154    154   100%  2e-33 94.00  65441144   AP023165.1       \n",
            ">Felis catus Senzu DNA, chromosome: E1, American Shorthair breed\n"
          ]
        }
      ],
      "source": [
        "!cat question1_text_results.txt | grep 'Canis'\n",
        "print('-'*100)\n",
        "!cat question1_text_results.txt | grep 'Felis'"
      ]
    },
    {
      "cell_type": "markdown",
      "metadata": {
        "id": "b3vwSvFprVfb"
      },
      "source": [
        "Find all names of organisms:"
      ]
    },
    {
      "cell_type": "code",
      "execution_count": 8,
      "metadata": {
        "id": "CmnkG1t8r3on"
      },
      "outputs": [],
      "source": [
        "species = dict()\n",
        "with open(\"question1_text_results.txt\", \"r\") as question1_text_results:\n",
        "    line = question1_text_results.readline()\n",
        "    next_good = False\n",
        "    while line:\n",
        "        if next_good:\n",
        "            name = line[82:98]\n",
        "            if name in species.keys():\n",
        "                species[name] += 1\n",
        "            else:\n",
        "                species[name] = 1\n",
        "        next_good = True if 'Name' in line else False\n",
        "        line = question1_text_results.readline()"
      ]
    },
    {
      "cell_type": "markdown",
      "metadata": {
        "id": "ZQRgQRVVsN0v"
      },
      "source": [
        "Create a diagram."
      ]
    },
    {
      "cell_type": "code",
      "execution_count": 9,
      "metadata": {
        "id": "KtimIXFIsLdq",
        "colab": {
          "base_uri": "https://localhost:8080/",
          "height": 542
        },
        "outputId": "cc97fbc2-1098-4890-a979-a966260acecb"
      },
      "outputs": [
        {
          "output_type": "display_data",
          "data": {
            "text/html": [
              "<html>\n",
              "<head><meta charset=\"utf-8\" /></head>\n",
              "<body>\n",
              "    <div>            <script src=\"https://cdnjs.cloudflare.com/ajax/libs/mathjax/2.7.5/MathJax.js?config=TeX-AMS-MML_SVG\"></script><script type=\"text/javascript\">if (window.MathJax && window.MathJax.Hub && window.MathJax.Hub.Config) {window.MathJax.Hub.Config({SVG: {font: \"STIX-Web\"}});}</script>                <script type=\"text/javascript\">window.PlotlyConfig = {MathJaxConfig: 'local'};</script>\n",
              "        <script src=\"https://cdn.plot.ly/plotly-2.18.2.min.js\"></script>                <div id=\"3a560ddf-8fbf-4a79-88e3-3e2b238baeb9\" class=\"plotly-graph-div\" style=\"height:525px; width:100%;\"></div>            <script type=\"text/javascript\">                                    window.PLOTLYENV=window.PLOTLYENV || {};                                    if (document.getElementById(\"3a560ddf-8fbf-4a79-88e3-3e2b238baeb9\")) {                    Plotly.newPlot(                        \"3a560ddf-8fbf-4a79-88e3-3e2b238baeb9\",                        [{\"domain\":{\"x\":[0.0,1.0],\"y\":[0.0,1.0]},\"hovertemplate\":\"label=%{label}<br>value=%{value}<extra></extra>\",\"labels\":[\"Eurasian badger \",\"gray wolf       \",\"snow leopard    \",\"cheetah         \",\"domestic cat    \",\"fishing cat     \",\"killer whale    \",\"common pipis... \",\"dog             \",\"leopard         \",\"minke whale     \",\"northern bot... \",\"St. Mark's fly  \",\"human           \",\"house mouse     \"],\"legendgroup\":\"\",\"name\":\"\",\"showlegend\":true,\"values\":[12,10,1,3,1,3,1,1,1,1,1,2,1,7,48],\"type\":\"pie\"}],                        {\"template\":{\"data\":{\"histogram2dcontour\":[{\"type\":\"histogram2dcontour\",\"colorbar\":{\"outlinewidth\":0,\"ticks\":\"\"},\"colorscale\":[[0.0,\"#0d0887\"],[0.1111111111111111,\"#46039f\"],[0.2222222222222222,\"#7201a8\"],[0.3333333333333333,\"#9c179e\"],[0.4444444444444444,\"#bd3786\"],[0.5555555555555556,\"#d8576b\"],[0.6666666666666666,\"#ed7953\"],[0.7777777777777778,\"#fb9f3a\"],[0.8888888888888888,\"#fdca26\"],[1.0,\"#f0f921\"]]}],\"choropleth\":[{\"type\":\"choropleth\",\"colorbar\":{\"outlinewidth\":0,\"ticks\":\"\"}}],\"histogram2d\":[{\"type\":\"histogram2d\",\"colorbar\":{\"outlinewidth\":0,\"ticks\":\"\"},\"colorscale\":[[0.0,\"#0d0887\"],[0.1111111111111111,\"#46039f\"],[0.2222222222222222,\"#7201a8\"],[0.3333333333333333,\"#9c179e\"],[0.4444444444444444,\"#bd3786\"],[0.5555555555555556,\"#d8576b\"],[0.6666666666666666,\"#ed7953\"],[0.7777777777777778,\"#fb9f3a\"],[0.8888888888888888,\"#fdca26\"],[1.0,\"#f0f921\"]]}],\"heatmap\":[{\"type\":\"heatmap\",\"colorbar\":{\"outlinewidth\":0,\"ticks\":\"\"},\"colorscale\":[[0.0,\"#0d0887\"],[0.1111111111111111,\"#46039f\"],[0.2222222222222222,\"#7201a8\"],[0.3333333333333333,\"#9c179e\"],[0.4444444444444444,\"#bd3786\"],[0.5555555555555556,\"#d8576b\"],[0.6666666666666666,\"#ed7953\"],[0.7777777777777778,\"#fb9f3a\"],[0.8888888888888888,\"#fdca26\"],[1.0,\"#f0f921\"]]}],\"heatmapgl\":[{\"type\":\"heatmapgl\",\"colorbar\":{\"outlinewidth\":0,\"ticks\":\"\"},\"colorscale\":[[0.0,\"#0d0887\"],[0.1111111111111111,\"#46039f\"],[0.2222222222222222,\"#7201a8\"],[0.3333333333333333,\"#9c179e\"],[0.4444444444444444,\"#bd3786\"],[0.5555555555555556,\"#d8576b\"],[0.6666666666666666,\"#ed7953\"],[0.7777777777777778,\"#fb9f3a\"],[0.8888888888888888,\"#fdca26\"],[1.0,\"#f0f921\"]]}],\"contourcarpet\":[{\"type\":\"contourcarpet\",\"colorbar\":{\"outlinewidth\":0,\"ticks\":\"\"}}],\"contour\":[{\"type\":\"contour\",\"colorbar\":{\"outlinewidth\":0,\"ticks\":\"\"},\"colorscale\":[[0.0,\"#0d0887\"],[0.1111111111111111,\"#46039f\"],[0.2222222222222222,\"#7201a8\"],[0.3333333333333333,\"#9c179e\"],[0.4444444444444444,\"#bd3786\"],[0.5555555555555556,\"#d8576b\"],[0.6666666666666666,\"#ed7953\"],[0.7777777777777778,\"#fb9f3a\"],[0.8888888888888888,\"#fdca26\"],[1.0,\"#f0f921\"]]}],\"surface\":[{\"type\":\"surface\",\"colorbar\":{\"outlinewidth\":0,\"ticks\":\"\"},\"colorscale\":[[0.0,\"#0d0887\"],[0.1111111111111111,\"#46039f\"],[0.2222222222222222,\"#7201a8\"],[0.3333333333333333,\"#9c179e\"],[0.4444444444444444,\"#bd3786\"],[0.5555555555555556,\"#d8576b\"],[0.6666666666666666,\"#ed7953\"],[0.7777777777777778,\"#fb9f3a\"],[0.8888888888888888,\"#fdca26\"],[1.0,\"#f0f921\"]]}],\"mesh3d\":[{\"type\":\"mesh3d\",\"colorbar\":{\"outlinewidth\":0,\"ticks\":\"\"}}],\"scatter\":[{\"fillpattern\":{\"fillmode\":\"overlay\",\"size\":10,\"solidity\":0.2},\"type\":\"scatter\"}],\"parcoords\":[{\"type\":\"parcoords\",\"line\":{\"colorbar\":{\"outlinewidth\":0,\"ticks\":\"\"}}}],\"scatterpolargl\":[{\"type\":\"scatterpolargl\",\"marker\":{\"colorbar\":{\"outlinewidth\":0,\"ticks\":\"\"}}}],\"bar\":[{\"error_x\":{\"color\":\"#2a3f5f\"},\"error_y\":{\"color\":\"#2a3f5f\"},\"marker\":{\"line\":{\"color\":\"#E5ECF6\",\"width\":0.5},\"pattern\":{\"fillmode\":\"overlay\",\"size\":10,\"solidity\":0.2}},\"type\":\"bar\"}],\"scattergeo\":[{\"type\":\"scattergeo\",\"marker\":{\"colorbar\":{\"outlinewidth\":0,\"ticks\":\"\"}}}],\"scatterpolar\":[{\"type\":\"scatterpolar\",\"marker\":{\"colorbar\":{\"outlinewidth\":0,\"ticks\":\"\"}}}],\"histogram\":[{\"marker\":{\"pattern\":{\"fillmode\":\"overlay\",\"size\":10,\"solidity\":0.2}},\"type\":\"histogram\"}],\"scattergl\":[{\"type\":\"scattergl\",\"marker\":{\"colorbar\":{\"outlinewidth\":0,\"ticks\":\"\"}}}],\"scatter3d\":[{\"type\":\"scatter3d\",\"line\":{\"colorbar\":{\"outlinewidth\":0,\"ticks\":\"\"}},\"marker\":{\"colorbar\":{\"outlinewidth\":0,\"ticks\":\"\"}}}],\"scattermapbox\":[{\"type\":\"scattermapbox\",\"marker\":{\"colorbar\":{\"outlinewidth\":0,\"ticks\":\"\"}}}],\"scatterternary\":[{\"type\":\"scatterternary\",\"marker\":{\"colorbar\":{\"outlinewidth\":0,\"ticks\":\"\"}}}],\"scattercarpet\":[{\"type\":\"scattercarpet\",\"marker\":{\"colorbar\":{\"outlinewidth\":0,\"ticks\":\"\"}}}],\"carpet\":[{\"aaxis\":{\"endlinecolor\":\"#2a3f5f\",\"gridcolor\":\"white\",\"linecolor\":\"white\",\"minorgridcolor\":\"white\",\"startlinecolor\":\"#2a3f5f\"},\"baxis\":{\"endlinecolor\":\"#2a3f5f\",\"gridcolor\":\"white\",\"linecolor\":\"white\",\"minorgridcolor\":\"white\",\"startlinecolor\":\"#2a3f5f\"},\"type\":\"carpet\"}],\"table\":[{\"cells\":{\"fill\":{\"color\":\"#EBF0F8\"},\"line\":{\"color\":\"white\"}},\"header\":{\"fill\":{\"color\":\"#C8D4E3\"},\"line\":{\"color\":\"white\"}},\"type\":\"table\"}],\"barpolar\":[{\"marker\":{\"line\":{\"color\":\"#E5ECF6\",\"width\":0.5},\"pattern\":{\"fillmode\":\"overlay\",\"size\":10,\"solidity\":0.2}},\"type\":\"barpolar\"}],\"pie\":[{\"automargin\":true,\"type\":\"pie\"}]},\"layout\":{\"autotypenumbers\":\"strict\",\"colorway\":[\"#636efa\",\"#EF553B\",\"#00cc96\",\"#ab63fa\",\"#FFA15A\",\"#19d3f3\",\"#FF6692\",\"#B6E880\",\"#FF97FF\",\"#FECB52\"],\"font\":{\"color\":\"#2a3f5f\"},\"hovermode\":\"closest\",\"hoverlabel\":{\"align\":\"left\"},\"paper_bgcolor\":\"white\",\"plot_bgcolor\":\"#E5ECF6\",\"polar\":{\"bgcolor\":\"#E5ECF6\",\"angularaxis\":{\"gridcolor\":\"white\",\"linecolor\":\"white\",\"ticks\":\"\"},\"radialaxis\":{\"gridcolor\":\"white\",\"linecolor\":\"white\",\"ticks\":\"\"}},\"ternary\":{\"bgcolor\":\"#E5ECF6\",\"aaxis\":{\"gridcolor\":\"white\",\"linecolor\":\"white\",\"ticks\":\"\"},\"baxis\":{\"gridcolor\":\"white\",\"linecolor\":\"white\",\"ticks\":\"\"},\"caxis\":{\"gridcolor\":\"white\",\"linecolor\":\"white\",\"ticks\":\"\"}},\"coloraxis\":{\"colorbar\":{\"outlinewidth\":0,\"ticks\":\"\"}},\"colorscale\":{\"sequential\":[[0.0,\"#0d0887\"],[0.1111111111111111,\"#46039f\"],[0.2222222222222222,\"#7201a8\"],[0.3333333333333333,\"#9c179e\"],[0.4444444444444444,\"#bd3786\"],[0.5555555555555556,\"#d8576b\"],[0.6666666666666666,\"#ed7953\"],[0.7777777777777778,\"#fb9f3a\"],[0.8888888888888888,\"#fdca26\"],[1.0,\"#f0f921\"]],\"sequentialminus\":[[0.0,\"#0d0887\"],[0.1111111111111111,\"#46039f\"],[0.2222222222222222,\"#7201a8\"],[0.3333333333333333,\"#9c179e\"],[0.4444444444444444,\"#bd3786\"],[0.5555555555555556,\"#d8576b\"],[0.6666666666666666,\"#ed7953\"],[0.7777777777777778,\"#fb9f3a\"],[0.8888888888888888,\"#fdca26\"],[1.0,\"#f0f921\"]],\"diverging\":[[0,\"#8e0152\"],[0.1,\"#c51b7d\"],[0.2,\"#de77ae\"],[0.3,\"#f1b6da\"],[0.4,\"#fde0ef\"],[0.5,\"#f7f7f7\"],[0.6,\"#e6f5d0\"],[0.7,\"#b8e186\"],[0.8,\"#7fbc41\"],[0.9,\"#4d9221\"],[1,\"#276419\"]]},\"xaxis\":{\"gridcolor\":\"white\",\"linecolor\":\"white\",\"ticks\":\"\",\"title\":{\"standoff\":15},\"zerolinecolor\":\"white\",\"automargin\":true,\"zerolinewidth\":2},\"yaxis\":{\"gridcolor\":\"white\",\"linecolor\":\"white\",\"ticks\":\"\",\"title\":{\"standoff\":15},\"zerolinecolor\":\"white\",\"automargin\":true,\"zerolinewidth\":2},\"scene\":{\"xaxis\":{\"backgroundcolor\":\"#E5ECF6\",\"gridcolor\":\"white\",\"linecolor\":\"white\",\"showbackground\":true,\"ticks\":\"\",\"zerolinecolor\":\"white\",\"gridwidth\":2},\"yaxis\":{\"backgroundcolor\":\"#E5ECF6\",\"gridcolor\":\"white\",\"linecolor\":\"white\",\"showbackground\":true,\"ticks\":\"\",\"zerolinecolor\":\"white\",\"gridwidth\":2},\"zaxis\":{\"backgroundcolor\":\"#E5ECF6\",\"gridcolor\":\"white\",\"linecolor\":\"white\",\"showbackground\":true,\"ticks\":\"\",\"zerolinecolor\":\"white\",\"gridwidth\":2}},\"shapedefaults\":{\"line\":{\"color\":\"#2a3f5f\"}},\"annotationdefaults\":{\"arrowcolor\":\"#2a3f5f\",\"arrowhead\":0,\"arrowwidth\":1},\"geo\":{\"bgcolor\":\"white\",\"landcolor\":\"#E5ECF6\",\"subunitcolor\":\"white\",\"showland\":true,\"showlakes\":true,\"lakecolor\":\"white\"},\"title\":{\"x\":0.05},\"mapbox\":{\"style\":\"light\"}}},\"legend\":{\"tracegroupgap\":0},\"margin\":{\"t\":60},\"font\":{\"size\":16},\"title\":{\"text\":\"Distibution between species in contamination\"}},                        {\"responsive\": true}                    ).then(function(){\n",
              "                            \n",
              "var gd = document.getElementById('3a560ddf-8fbf-4a79-88e3-3e2b238baeb9');\n",
              "var x = new MutationObserver(function (mutations, observer) {{\n",
              "        var display = window.getComputedStyle(gd).display;\n",
              "        if (!display || display === 'none') {{\n",
              "            console.log([gd, 'removed!']);\n",
              "            Plotly.purge(gd);\n",
              "            observer.disconnect();\n",
              "        }}\n",
              "}});\n",
              "\n",
              "// Listen for the removal of the full notebook cells\n",
              "var notebookContainer = gd.closest('#notebook-container');\n",
              "if (notebookContainer) {{\n",
              "    x.observe(notebookContainer, {childList: true});\n",
              "}}\n",
              "\n",
              "// Listen for the clearing of the current output cell\n",
              "var outputEl = gd.closest('.output');\n",
              "if (outputEl) {{\n",
              "    x.observe(outputEl, {childList: true});\n",
              "}}\n",
              "\n",
              "                        })                };                            </script>        </div>\n",
              "</body>\n",
              "</html>"
            ]
          },
          "metadata": {}
        }
      ],
      "source": [
        "import plotly.express as px\n",
        "\n",
        "values = species.values()\n",
        "labels = species.keys()\n",
        "fig = px.pie(values=values, names=labels)\n",
        "fig.update_layout(\n",
        "    title='Distibution between species in contamination',\n",
        "    font=dict(size=16)\n",
        ")\n",
        "fig.show()\n"
      ]
    },
    {
      "cell_type": "markdown",
      "metadata": {
        "id": "Z_OrwSqVu6DS"
      },
      "source": [
        "This distribution entails that contamination is more likely by Иванов, because gemones of gray wolf and reitriever Labrador is quite similar.\n",
        "If limit orgenism only by Felis catus and Canis lupus familiaris, the dogs was get absolute advandage (53 reads vs 6 reads aligned to cats).\n",
        "Consequently, we can say that more likely, that Ivanov is culprit of contamination. But also we can see lot's of different species such as killer whales, flies, common pipis..., etc. This may be caused by inaccuracy in the experiment. "
      ]
    },
    {
      "cell_type": "markdown",
      "metadata": {
        "id": "K8HWwIW4vKXH"
      },
      "source": [
        "###### Question 3."
      ]
    },
    {
      "cell_type": "markdown",
      "metadata": {
        "id": "idbEuOJMvxjn"
      },
      "source": [
        "For calculating the most frequent species in top-10, we set the parameter `Max matches in a query range` equal to 10. And remove limitations on organisms.\n",
        "Then download results."
      ]
    },
    {
      "cell_type": "code",
      "source": [
        "!wget https://github.com/ilyagerman52/bioinformatics/raw/main/homework6/Part2/Assignment1/question3.txt -O question3_text_results.txt -q"
      ],
      "metadata": {
        "id": "VIR_tWZFHF8I"
      },
      "execution_count": 10,
      "outputs": []
    },
    {
      "cell_type": "code",
      "source": [
        "import plotly.express as px\n",
        "\n",
        "species = dict()\n",
        "with open(\"question3_text_results.txt\", \"r\") as question3_text_results:\n",
        "    line = question3_text_results.readline()\n",
        "    next_good = False\n",
        "    while line:\n",
        "        if next_good:\n",
        "            name = line[82:98]\n",
        "            if name in species.keys():\n",
        "                species[name] += 1\n",
        "            else:\n",
        "                species[name] = 1\n",
        "        next_good = True if 'Name' in line else False\n",
        "        line = question3_text_results.readline()\n",
        "\n",
        "values = species.values()\n",
        "labels = species.keys()\n",
        "fig = px.pie(values=values, names=labels)\n",
        "fig.update_layout(\n",
        "    title='Distibution between species in contamination',\n",
        "    font=dict(size=16)\n",
        ")\n",
        "fig.show()\n"
      ],
      "metadata": {
        "id": "48h0ZH1qKZt1",
        "colab": {
          "base_uri": "https://localhost:8080/",
          "height": 542
        },
        "outputId": "149eb824-4af2-4d7a-f06a-c7954312e033"
      },
      "execution_count": 11,
      "outputs": [
        {
          "output_type": "display_data",
          "data": {
            "text/html": [
              "<html>\n",
              "<head><meta charset=\"utf-8\" /></head>\n",
              "<body>\n",
              "    <div>            <script src=\"https://cdnjs.cloudflare.com/ajax/libs/mathjax/2.7.5/MathJax.js?config=TeX-AMS-MML_SVG\"></script><script type=\"text/javascript\">if (window.MathJax && window.MathJax.Hub && window.MathJax.Hub.Config) {window.MathJax.Hub.Config({SVG: {font: \"STIX-Web\"}});}</script>                <script type=\"text/javascript\">window.PlotlyConfig = {MathJaxConfig: 'local'};</script>\n",
              "        <script src=\"https://cdn.plot.ly/plotly-2.18.2.min.js\"></script>                <div id=\"471c267d-8b73-465f-b7f0-9693bb6310c6\" class=\"plotly-graph-div\" style=\"height:525px; width:100%;\"></div>            <script type=\"text/javascript\">                                    window.PLOTLYENV=window.PLOTLYENV || {};                                    if (document.getElementById(\"471c267d-8b73-465f-b7f0-9693bb6310c6\")) {                    Plotly.newPlot(                        \"471c267d-8b73-465f-b7f0-9693bb6310c6\",                        [{\"domain\":{\"x\":[0.0,1.0],\"y\":[0.0,1.0]},\"hovertemplate\":\"label=%{label}<br>value=%{value}<extra></extra>\",\"labels\":[\"wild yak        \",\"domestic cat    \",\"Geoffroy's cat  \",\"fishing cat     \",\"dog             \",\"Canada lynx     \",\"saddleback d... \",\"Eurasian badger \",\"cheetah         \",\"NA              \",\"human           \",\"house mouse     \"],\"legendgroup\":\"\",\"name\":\"\",\"showlegend\":true,\"values\":[1,6,1,3,3,1,1,2,1,1,7,47],\"type\":\"pie\"}],                        {\"template\":{\"data\":{\"histogram2dcontour\":[{\"type\":\"histogram2dcontour\",\"colorbar\":{\"outlinewidth\":0,\"ticks\":\"\"},\"colorscale\":[[0.0,\"#0d0887\"],[0.1111111111111111,\"#46039f\"],[0.2222222222222222,\"#7201a8\"],[0.3333333333333333,\"#9c179e\"],[0.4444444444444444,\"#bd3786\"],[0.5555555555555556,\"#d8576b\"],[0.6666666666666666,\"#ed7953\"],[0.7777777777777778,\"#fb9f3a\"],[0.8888888888888888,\"#fdca26\"],[1.0,\"#f0f921\"]]}],\"choropleth\":[{\"type\":\"choropleth\",\"colorbar\":{\"outlinewidth\":0,\"ticks\":\"\"}}],\"histogram2d\":[{\"type\":\"histogram2d\",\"colorbar\":{\"outlinewidth\":0,\"ticks\":\"\"},\"colorscale\":[[0.0,\"#0d0887\"],[0.1111111111111111,\"#46039f\"],[0.2222222222222222,\"#7201a8\"],[0.3333333333333333,\"#9c179e\"],[0.4444444444444444,\"#bd3786\"],[0.5555555555555556,\"#d8576b\"],[0.6666666666666666,\"#ed7953\"],[0.7777777777777778,\"#fb9f3a\"],[0.8888888888888888,\"#fdca26\"],[1.0,\"#f0f921\"]]}],\"heatmap\":[{\"type\":\"heatmap\",\"colorbar\":{\"outlinewidth\":0,\"ticks\":\"\"},\"colorscale\":[[0.0,\"#0d0887\"],[0.1111111111111111,\"#46039f\"],[0.2222222222222222,\"#7201a8\"],[0.3333333333333333,\"#9c179e\"],[0.4444444444444444,\"#bd3786\"],[0.5555555555555556,\"#d8576b\"],[0.6666666666666666,\"#ed7953\"],[0.7777777777777778,\"#fb9f3a\"],[0.8888888888888888,\"#fdca26\"],[1.0,\"#f0f921\"]]}],\"heatmapgl\":[{\"type\":\"heatmapgl\",\"colorbar\":{\"outlinewidth\":0,\"ticks\":\"\"},\"colorscale\":[[0.0,\"#0d0887\"],[0.1111111111111111,\"#46039f\"],[0.2222222222222222,\"#7201a8\"],[0.3333333333333333,\"#9c179e\"],[0.4444444444444444,\"#bd3786\"],[0.5555555555555556,\"#d8576b\"],[0.6666666666666666,\"#ed7953\"],[0.7777777777777778,\"#fb9f3a\"],[0.8888888888888888,\"#fdca26\"],[1.0,\"#f0f921\"]]}],\"contourcarpet\":[{\"type\":\"contourcarpet\",\"colorbar\":{\"outlinewidth\":0,\"ticks\":\"\"}}],\"contour\":[{\"type\":\"contour\",\"colorbar\":{\"outlinewidth\":0,\"ticks\":\"\"},\"colorscale\":[[0.0,\"#0d0887\"],[0.1111111111111111,\"#46039f\"],[0.2222222222222222,\"#7201a8\"],[0.3333333333333333,\"#9c179e\"],[0.4444444444444444,\"#bd3786\"],[0.5555555555555556,\"#d8576b\"],[0.6666666666666666,\"#ed7953\"],[0.7777777777777778,\"#fb9f3a\"],[0.8888888888888888,\"#fdca26\"],[1.0,\"#f0f921\"]]}],\"surface\":[{\"type\":\"surface\",\"colorbar\":{\"outlinewidth\":0,\"ticks\":\"\"},\"colorscale\":[[0.0,\"#0d0887\"],[0.1111111111111111,\"#46039f\"],[0.2222222222222222,\"#7201a8\"],[0.3333333333333333,\"#9c179e\"],[0.4444444444444444,\"#bd3786\"],[0.5555555555555556,\"#d8576b\"],[0.6666666666666666,\"#ed7953\"],[0.7777777777777778,\"#fb9f3a\"],[0.8888888888888888,\"#fdca26\"],[1.0,\"#f0f921\"]]}],\"mesh3d\":[{\"type\":\"mesh3d\",\"colorbar\":{\"outlinewidth\":0,\"ticks\":\"\"}}],\"scatter\":[{\"fillpattern\":{\"fillmode\":\"overlay\",\"size\":10,\"solidity\":0.2},\"type\":\"scatter\"}],\"parcoords\":[{\"type\":\"parcoords\",\"line\":{\"colorbar\":{\"outlinewidth\":0,\"ticks\":\"\"}}}],\"scatterpolargl\":[{\"type\":\"scatterpolargl\",\"marker\":{\"colorbar\":{\"outlinewidth\":0,\"ticks\":\"\"}}}],\"bar\":[{\"error_x\":{\"color\":\"#2a3f5f\"},\"error_y\":{\"color\":\"#2a3f5f\"},\"marker\":{\"line\":{\"color\":\"#E5ECF6\",\"width\":0.5},\"pattern\":{\"fillmode\":\"overlay\",\"size\":10,\"solidity\":0.2}},\"type\":\"bar\"}],\"scattergeo\":[{\"type\":\"scattergeo\",\"marker\":{\"colorbar\":{\"outlinewidth\":0,\"ticks\":\"\"}}}],\"scatterpolar\":[{\"type\":\"scatterpolar\",\"marker\":{\"colorbar\":{\"outlinewidth\":0,\"ticks\":\"\"}}}],\"histogram\":[{\"marker\":{\"pattern\":{\"fillmode\":\"overlay\",\"size\":10,\"solidity\":0.2}},\"type\":\"histogram\"}],\"scattergl\":[{\"type\":\"scattergl\",\"marker\":{\"colorbar\":{\"outlinewidth\":0,\"ticks\":\"\"}}}],\"scatter3d\":[{\"type\":\"scatter3d\",\"line\":{\"colorbar\":{\"outlinewidth\":0,\"ticks\":\"\"}},\"marker\":{\"colorbar\":{\"outlinewidth\":0,\"ticks\":\"\"}}}],\"scattermapbox\":[{\"type\":\"scattermapbox\",\"marker\":{\"colorbar\":{\"outlinewidth\":0,\"ticks\":\"\"}}}],\"scatterternary\":[{\"type\":\"scatterternary\",\"marker\":{\"colorbar\":{\"outlinewidth\":0,\"ticks\":\"\"}}}],\"scattercarpet\":[{\"type\":\"scattercarpet\",\"marker\":{\"colorbar\":{\"outlinewidth\":0,\"ticks\":\"\"}}}],\"carpet\":[{\"aaxis\":{\"endlinecolor\":\"#2a3f5f\",\"gridcolor\":\"white\",\"linecolor\":\"white\",\"minorgridcolor\":\"white\",\"startlinecolor\":\"#2a3f5f\"},\"baxis\":{\"endlinecolor\":\"#2a3f5f\",\"gridcolor\":\"white\",\"linecolor\":\"white\",\"minorgridcolor\":\"white\",\"startlinecolor\":\"#2a3f5f\"},\"type\":\"carpet\"}],\"table\":[{\"cells\":{\"fill\":{\"color\":\"#EBF0F8\"},\"line\":{\"color\":\"white\"}},\"header\":{\"fill\":{\"color\":\"#C8D4E3\"},\"line\":{\"color\":\"white\"}},\"type\":\"table\"}],\"barpolar\":[{\"marker\":{\"line\":{\"color\":\"#E5ECF6\",\"width\":0.5},\"pattern\":{\"fillmode\":\"overlay\",\"size\":10,\"solidity\":0.2}},\"type\":\"barpolar\"}],\"pie\":[{\"automargin\":true,\"type\":\"pie\"}]},\"layout\":{\"autotypenumbers\":\"strict\",\"colorway\":[\"#636efa\",\"#EF553B\",\"#00cc96\",\"#ab63fa\",\"#FFA15A\",\"#19d3f3\",\"#FF6692\",\"#B6E880\",\"#FF97FF\",\"#FECB52\"],\"font\":{\"color\":\"#2a3f5f\"},\"hovermode\":\"closest\",\"hoverlabel\":{\"align\":\"left\"},\"paper_bgcolor\":\"white\",\"plot_bgcolor\":\"#E5ECF6\",\"polar\":{\"bgcolor\":\"#E5ECF6\",\"angularaxis\":{\"gridcolor\":\"white\",\"linecolor\":\"white\",\"ticks\":\"\"},\"radialaxis\":{\"gridcolor\":\"white\",\"linecolor\":\"white\",\"ticks\":\"\"}},\"ternary\":{\"bgcolor\":\"#E5ECF6\",\"aaxis\":{\"gridcolor\":\"white\",\"linecolor\":\"white\",\"ticks\":\"\"},\"baxis\":{\"gridcolor\":\"white\",\"linecolor\":\"white\",\"ticks\":\"\"},\"caxis\":{\"gridcolor\":\"white\",\"linecolor\":\"white\",\"ticks\":\"\"}},\"coloraxis\":{\"colorbar\":{\"outlinewidth\":0,\"ticks\":\"\"}},\"colorscale\":{\"sequential\":[[0.0,\"#0d0887\"],[0.1111111111111111,\"#46039f\"],[0.2222222222222222,\"#7201a8\"],[0.3333333333333333,\"#9c179e\"],[0.4444444444444444,\"#bd3786\"],[0.5555555555555556,\"#d8576b\"],[0.6666666666666666,\"#ed7953\"],[0.7777777777777778,\"#fb9f3a\"],[0.8888888888888888,\"#fdca26\"],[1.0,\"#f0f921\"]],\"sequentialminus\":[[0.0,\"#0d0887\"],[0.1111111111111111,\"#46039f\"],[0.2222222222222222,\"#7201a8\"],[0.3333333333333333,\"#9c179e\"],[0.4444444444444444,\"#bd3786\"],[0.5555555555555556,\"#d8576b\"],[0.6666666666666666,\"#ed7953\"],[0.7777777777777778,\"#fb9f3a\"],[0.8888888888888888,\"#fdca26\"],[1.0,\"#f0f921\"]],\"diverging\":[[0,\"#8e0152\"],[0.1,\"#c51b7d\"],[0.2,\"#de77ae\"],[0.3,\"#f1b6da\"],[0.4,\"#fde0ef\"],[0.5,\"#f7f7f7\"],[0.6,\"#e6f5d0\"],[0.7,\"#b8e186\"],[0.8,\"#7fbc41\"],[0.9,\"#4d9221\"],[1,\"#276419\"]]},\"xaxis\":{\"gridcolor\":\"white\",\"linecolor\":\"white\",\"ticks\":\"\",\"title\":{\"standoff\":15},\"zerolinecolor\":\"white\",\"automargin\":true,\"zerolinewidth\":2},\"yaxis\":{\"gridcolor\":\"white\",\"linecolor\":\"white\",\"ticks\":\"\",\"title\":{\"standoff\":15},\"zerolinecolor\":\"white\",\"automargin\":true,\"zerolinewidth\":2},\"scene\":{\"xaxis\":{\"backgroundcolor\":\"#E5ECF6\",\"gridcolor\":\"white\",\"linecolor\":\"white\",\"showbackground\":true,\"ticks\":\"\",\"zerolinecolor\":\"white\",\"gridwidth\":2},\"yaxis\":{\"backgroundcolor\":\"#E5ECF6\",\"gridcolor\":\"white\",\"linecolor\":\"white\",\"showbackground\":true,\"ticks\":\"\",\"zerolinecolor\":\"white\",\"gridwidth\":2},\"zaxis\":{\"backgroundcolor\":\"#E5ECF6\",\"gridcolor\":\"white\",\"linecolor\":\"white\",\"showbackground\":true,\"ticks\":\"\",\"zerolinecolor\":\"white\",\"gridwidth\":2}},\"shapedefaults\":{\"line\":{\"color\":\"#2a3f5f\"}},\"annotationdefaults\":{\"arrowcolor\":\"#2a3f5f\",\"arrowhead\":0,\"arrowwidth\":1},\"geo\":{\"bgcolor\":\"white\",\"landcolor\":\"#E5ECF6\",\"subunitcolor\":\"white\",\"showland\":true,\"showlakes\":true,\"lakecolor\":\"white\"},\"title\":{\"x\":0.05},\"mapbox\":{\"style\":\"light\"}}},\"legend\":{\"tracegroupgap\":0},\"margin\":{\"t\":60},\"font\":{\"size\":16},\"title\":{\"text\":\"Distibution between species in contamination\"}},                        {\"responsive\": true}                    ).then(function(){\n",
              "                            \n",
              "var gd = document.getElementById('471c267d-8b73-465f-b7f0-9693bb6310c6');\n",
              "var x = new MutationObserver(function (mutations, observer) {{\n",
              "        var display = window.getComputedStyle(gd).display;\n",
              "        if (!display || display === 'none') {{\n",
              "            console.log([gd, 'removed!']);\n",
              "            Plotly.purge(gd);\n",
              "            observer.disconnect();\n",
              "        }}\n",
              "}});\n",
              "\n",
              "// Listen for the removal of the full notebook cells\n",
              "var notebookContainer = gd.closest('#notebook-container');\n",
              "if (notebookContainer) {{\n",
              "    x.observe(notebookContainer, {childList: true});\n",
              "}}\n",
              "\n",
              "// Listen for the clearing of the current output cell\n",
              "var outputEl = gd.closest('.output');\n",
              "if (outputEl) {{\n",
              "    x.observe(outputEl, {childList: true});\n",
              "}}\n",
              "\n",
              "                        })                };                            </script>        </div>\n",
              "</body>\n",
              "</html>"
            ]
          },
          "metadata": {}
        }
      ]
    },
    {
      "cell_type": "markdown",
      "source": [
        "The result blew my mind. Here we see that domestic cat and fishing cat have above 12% for together. It is much greater then 4% dog. "
      ],
      "metadata": {
        "id": "cI_5op1PKxYJ"
      }
    },
    {
      "cell_type": "markdown",
      "metadata": {
        "id": "z1VObCFvwzIz"
      },
      "source": [
        "##### Assignment 2. DNA fragmentation."
      ]
    },
    {
      "cell_type": "markdown",
      "metadata": {
        "id": "2EVYy8AOw9av"
      },
      "source": [
        "We must shoose random sequence from human genome.\n",
        "But we have already do it in  the first part of HW, so we only need to copy one of subsequences:"
      ]
    },
    {
      "cell_type": "code",
      "execution_count": 12,
      "metadata": {
        "id": "2FBwNKoFx87j",
        "colab": {
          "base_uri": "https://localhost:8080/"
        },
        "outputId": "f415197e-4fa7-4308-b95c-a2630fd0c2f9"
      },
      "outputs": [
        {
          "output_type": "stream",
          "name": "stdout",
          "text": [
            ">fragment_100\n",
            "aatgtcttcttttgagaagtgtctgttcatatccttcgcccactttgtgatggggttgtttgtttttttcttgtaaattt\n",
            "gtttgagttctttgtagatt\n"
          ]
        }
      ],
      "source": [
        "!echo \">fragment_100\" > fragments.fasta\n",
        "!head -n3 subseq_py.fasta | tail -n2 >> fragments.fasta\n",
        "!cat fragments.fasta"
      ]
    },
    {
      "cell_type": "code",
      "execution_count": 13,
      "metadata": {
        "id": "mYnnFdAlyYii",
        "colab": {
          "base_uri": "https://localhost:8080/"
        },
        "outputId": "3d49f704-c099-4aa8-d5ee-9087cecda642"
      },
      "outputs": [
        {
          "output_type": "stream",
          "name": "stdout",
          "text": [
            ">fragment_100\n",
            "aatgtcttcttttgagaagtgtctgttcatatccttcgcccactttgtgatggggttgtttgtttttttcttgtaaattt\n",
            "gtttgagttctttgtagatt\n",
            ">fragment_99\n",
            "aatgtcttcttttgagaagtgtctgttcatatccttcgcccactttgtgatggggttgtttgtttttttcttgtaaattt\n",
            "gtttgagttctttgtagat\n",
            ">fragment_98\n",
            "aatgtcttcttttgagaagtgtctgttcatatccttcgcccactttgtgatggggttgtttgtttttttcttgtaaattt\n",
            "gtttgagttctttgtaga\n",
            ">fragment_97\n",
            "aatgtcttcttttgagaagtgtctgttcatatccttcgcccactttgtgatggggttgtttgtttttttcttgtaaattt\n",
            "gtttgagttctttgtag\n",
            ">fragment_96\n",
            "aatgtcttcttttgagaagtgtctgttcatatccttcgcccactttgtgatggggttgtttgtttttttcttgtaaattt\n",
            "gtttgagttctttgta\n",
            ">fragment_95\n",
            "aatgtcttcttttgagaagtgtctgttcatatccttcgcccactttgtgatggggttgtttgtttttttcttgtaaattt\n",
            "gtttgagttctttgt\n",
            ">fragment_94\n",
            "aatgtcttcttttgagaagtgtctgttcatatccttcgcccactttgtgatggggttgtttgtttttttcttgtaaattt\n",
            "gtttgagttctttg\n",
            ">fragment_93\n",
            "aatgtcttcttttgagaagtgtctgttcatatccttcgcccactttgtgatggggttgtttgtttttttcttgtaaattt\n",
            "gtttgagttcttt\n",
            ">fragment_92\n",
            "aatgtcttcttttgagaagtgtctgttcatatccttcgcccactttgtgatggggttgtttgtttttttcttgtaaattt\n",
            "gtttgagttctt\n",
            ">fragment_91\n",
            "aatgtcttcttttgagaagtgtctgttcatatccttcgcccactttgtgatggggttgtttgtttttttcttgtaaattt\n",
            "gtttgagttct\n",
            ">fragment_90\n",
            "aatgtcttcttttgagaagtgtctgttcatatccttcgcccactttgtgatggggttgtttgtttttttcttgtaaattt\n",
            "gtttgagttc\n",
            ">fragment_89\n",
            "aatgtcttcttttgagaagtgtctgttcatatccttcgcccactttgtgatggggttgtttgtttttttcttgtaaattt\n",
            "gtttgagtt\n",
            ">fragment_88\n",
            "aatgtcttcttttgagaagtgtctgttcatatccttcgcccactttgtgatggggttgtttgtttttttcttgtaaattt\n",
            "gtttgagt\n",
            ">fragment_87\n",
            "aatgtcttcttttgagaagtgtctgttcatatccttcgcccactttgtgatggggttgtttgtttttttcttgtaaattt\n",
            "gtttgag\n",
            ">fragment_86\n",
            "aatgtcttcttttgagaagtgtctgttcatatccttcgcccactttgtgatggggttgtttgtttttttcttgtaaattt\n",
            "gtttga\n",
            ">fragment_85\n",
            "aatgtcttcttttgagaagtgtctgttcatatccttcgcccactttgtgatggggttgtttgtttttttcttgtaaattt\n",
            "gtttg\n",
            ">fragment_84\n",
            "aatgtcttcttttgagaagtgtctgttcatatccttcgcccactttgtgatggggttgtttgtttttttcttgtaaattt\n",
            "gttt\n",
            ">fragment_83\n",
            "aatgtcttcttttgagaagtgtctgttcatatccttcgcccactttgtgatggggttgtttgtttttttcttgtaaattt\n",
            "gtt\n",
            ">fragment_82\n",
            "aatgtcttcttttgagaagtgtctgttcatatccttcgcccactttgtgatggggttgtttgtttttttcttgtaaattt\n",
            "gt\n",
            ">fragment_81\n",
            "aatgtcttcttttgagaagtgtctgttcatatccttcgcccactttgtgatggggttgtttgtttttttcttgtaaattt\n",
            "g\n",
            ">fragment_80\n",
            "aatgtcttcttttgagaagtgtctgttcatatccttcgcccactttgtgatggggttgtttgtttttttcttgtaaattt\n",
            ">fragment_79\n",
            "aatgtcttcttttgagaagtgtctgttcatatccttcgcccactttgtgatggggttgtttgtttttttcttgtaaatt\n",
            ">fragment_78\n",
            "aatgtcttcttttgagaagtgtctgttcatatccttcgcccactttgtgatggggttgtttgtttttttcttgtaaat\n",
            ">fragment_77\n",
            "aatgtcttcttttgagaagtgtctgttcatatccttcgcccactttgtgatggggttgtttgtttttttcttgtaaa\n",
            ">fragment_76\n",
            "aatgtcttcttttgagaagtgtctgttcatatccttcgcccactttgtgatggggttgtttgtttttttcttgtaa\n",
            ">fragment_75\n",
            "aatgtcttcttttgagaagtgtctgttcatatccttcgcccactttgtgatggggttgtttgtttttttcttgta\n",
            ">fragment_74\n",
            "aatgtcttcttttgagaagtgtctgttcatatccttcgcccactttgtgatggggttgtttgtttttttcttgt\n",
            ">fragment_73\n",
            "aatgtcttcttttgagaagtgtctgttcatatccttcgcccactttgtgatggggttgtttgtttttttcttg\n",
            ">fragment_72\n",
            "aatgtcttcttttgagaagtgtctgttcatatccttcgcccactttgtgatggggttgtttgtttttttctt\n",
            ">fragment_71\n",
            "aatgtcttcttttgagaagtgtctgttcatatccttcgcccactttgtgatggggttgtttgtttttttct\n",
            ">fragment_70\n",
            "aatgtcttcttttgagaagtgtctgttcatatccttcgcccactttgtgatggggttgtttgtttttttc\n",
            ">fragment_69\n",
            "aatgtcttcttttgagaagtgtctgttcatatccttcgcccactttgtgatggggttgtttgttttttt\n",
            ">fragment_68\n",
            "aatgtcttcttttgagaagtgtctgttcatatccttcgcccactttgtgatggggttgtttgtttttt\n",
            ">fragment_67\n",
            "aatgtcttcttttgagaagtgtctgttcatatccttcgcccactttgtgatggggttgtttgttttt\n",
            ">fragment_66\n",
            "aatgtcttcttttgagaagtgtctgttcatatccttcgcccactttgtgatggggttgtttgtttt\n",
            ">fragment_65\n",
            "aatgtcttcttttgagaagtgtctgttcatatccttcgcccactttgtgatggggttgtttgttt\n",
            ">fragment_64\n",
            "aatgtcttcttttgagaagtgtctgttcatatccttcgcccactttgtgatggggttgtttgtt\n",
            ">fragment_63\n",
            "aatgtcttcttttgagaagtgtctgttcatatccttcgcccactttgtgatggggttgtttgt\n",
            ">fragment_62\n",
            "aatgtcttcttttgagaagtgtctgttcatatccttcgcccactttgtgatggggttgtttg\n",
            ">fragment_61\n",
            "aatgtcttcttttgagaagtgtctgttcatatccttcgcccactttgtgatggggttgttt\n",
            ">fragment_60\n",
            "aatgtcttcttttgagaagtgtctgttcatatccttcgcccactttgtgatggggttgtt\n",
            ">fragment_59\n",
            "aatgtcttcttttgagaagtgtctgttcatatccttcgcccactttgtgatggggttgt\n",
            ">fragment_58\n",
            "aatgtcttcttttgagaagtgtctgttcatatccttcgcccactttgtgatggggttg\n",
            ">fragment_57\n",
            "aatgtcttcttttgagaagtgtctgttcatatccttcgcccactttgtgatggggtt\n",
            ">fragment_56\n",
            "aatgtcttcttttgagaagtgtctgttcatatccttcgcccactttgtgatggggt\n",
            ">fragment_55\n",
            "aatgtcttcttttgagaagtgtctgttcatatccttcgcccactttgtgatgggg\n",
            ">fragment_54\n",
            "aatgtcttcttttgagaagtgtctgttcatatccttcgcccactttgtgatggg\n",
            ">fragment_53\n",
            "aatgtcttcttttgagaagtgtctgttcatatccttcgcccactttgtgatgg\n",
            ">fragment_52\n",
            "aatgtcttcttttgagaagtgtctgttcatatccttcgcccactttgtgatg\n",
            ">fragment_51\n",
            "aatgtcttcttttgagaagtgtctgttcatatccttcgcccactttgtgat\n",
            ">fragment_50\n",
            "aatgtcttcttttgagaagtgtctgttcatatccttcgcccactttgtga\n",
            ">fragment_49\n",
            "aatgtcttcttttgagaagtgtctgttcatatccttcgcccactttgtg\n",
            ">fragment_48\n",
            "aatgtcttcttttgagaagtgtctgttcatatccttcgcccactttgt\n",
            ">fragment_47\n",
            "aatgtcttcttttgagaagtgtctgttcatatccttcgcccactttg\n",
            ">fragment_46\n",
            "aatgtcttcttttgagaagtgtctgttcatatccttcgcccacttt\n",
            ">fragment_45\n",
            "aatgtcttcttttgagaagtgtctgttcatatccttcgcccactt\n",
            ">fragment_44\n",
            "aatgtcttcttttgagaagtgtctgttcatatccttcgcccact\n",
            ">fragment_43\n",
            "aatgtcttcttttgagaagtgtctgttcatatccttcgcccac\n",
            ">fragment_42\n",
            "aatgtcttcttttgagaagtgtctgttcatatccttcgccca\n",
            ">fragment_41\n",
            "aatgtcttcttttgagaagtgtctgttcatatccttcgccc\n",
            ">fragment_40\n",
            "aatgtcttcttttgagaagtgtctgttcatatccttcgcc\n",
            ">fragment_39\n",
            "aatgtcttcttttgagaagtgtctgttcatatccttcgc\n",
            ">fragment_38\n",
            "aatgtcttcttttgagaagtgtctgttcatatccttcg\n",
            ">fragment_37\n",
            "aatgtcttcttttgagaagtgtctgttcatatccttc\n",
            ">fragment_36\n",
            "aatgtcttcttttgagaagtgtctgttcatatcctt\n",
            ">fragment_35\n",
            "aatgtcttcttttgagaagtgtctgttcatatcct\n",
            ">fragment_34\n",
            "aatgtcttcttttgagaagtgtctgttcatatcc\n",
            ">fragment_33\n",
            "aatgtcttcttttgagaagtgtctgttcatatc\n",
            ">fragment_32\n",
            "aatgtcttcttttgagaagtgtctgttcatat\n",
            ">fragment_31\n",
            "aatgtcttcttttgagaagtgtctgttcata\n",
            ">fragment_30\n",
            "aatgtcttcttttgagaagtgtctgttcat\n",
            ">fragment_29\n",
            "aatgtcttcttttgagaagtgtctgttca\n",
            ">fragment_28\n",
            "aatgtcttcttttgagaagtgtctgttc\n",
            ">fragment_27\n",
            "aatgtcttcttttgagaagtgtctgtt\n",
            ">fragment_26\n",
            "aatgtcttcttttgagaagtgtctgt\n",
            ">fragment_25\n",
            "aatgtcttcttttgagaagtgtctg\n",
            ">fragment_24\n",
            "aatgtcttcttttgagaagtgtct\n",
            ">fragment_23\n",
            "aatgtcttcttttgagaagtgtc\n",
            ">fragment_22\n",
            "aatgtcttcttttgagaagtgt\n",
            ">fragment_21\n",
            "aatgtcttcttttgagaagtg\n",
            ">fragment_20\n",
            "aatgtcttcttttgagaagt\n",
            ">fragment_19\n",
            "aatgtcttcttttgagaag\n",
            ">fragment_18\n",
            "aatgtcttcttttgagaa\n",
            ">fragment_17\n",
            "aatgtcttcttttgaga\n",
            ">fragment_16\n",
            "aatgtcttcttttgag\n",
            ">fragment_15\n",
            "aatgtcttcttttga\n",
            ">fragment_14\n",
            "aatgtcttcttttg\n",
            ">fragment_13\n",
            "aatgtcttctttt\n",
            ">fragment_12\n",
            "aatgtcttcttt\n",
            ">fragment_11\n",
            "aatgtcttctt\n",
            ">fragment_10\n",
            "aatgtcttct\n",
            ">fragment_9\n",
            "aatgtcttc\n",
            ">fragment_8\n",
            "aatgtctt\n",
            ">fragment_7\n",
            "aatgtct\n",
            ">fragment_6\n",
            "aatgtc\n",
            ">fragment_5\n",
            "aatgt\n",
            ">fragment_4\n",
            "aatg\n",
            ">fragment_3\n",
            "aat\n",
            ">fragment_2\n",
            "aa\n",
            ">fragment_1\n",
            "a\n"
          ]
        }
      ],
      "source": [
        "with open(\"fragments.fasta\", \"r\") as fragments:\n",
        "    _ = fragments.readline()\n",
        "    all_seq = fragments.read()\n",
        "\n",
        "with open ('fragments_2.fasta', 'w') as fragments:\n",
        "    for length in range(100, 0, -1):\n",
        "        fragments.write(\">fragment_\" + str(length)+'\\n')\n",
        "        if length > 80:\n",
        "            fragments.write(all_seq[:length + 1]+'\\n')\n",
        "        else:\n",
        "            fragments.write(all_seq[:length]+'\\n')\n",
        "!rm fragments.fasta\n",
        "!mv fragments_2.fasta fragments.fasta\n",
        "!cat fragments.fasta"
      ]
    },
    {
      "cell_type": "markdown",
      "metadata": {
        "id": "HHZg6UfX6rfk"
      },
      "source": [
        "**a)** Now download this file and load it in BLAST. Set `Max matches in a query range` is equal to $1$. Then download file (github). There we can see the last row with fragment_25. Consequently, fragments with length less the 25 is not appropriate for $\\text{e-value} = 0.05$. [screenshots](https://github.com/ilyagerman52/bioibformatics/tree/main/homework6/Part2/Assignment2/Screenshots)"
      ]
    },
    {
      "cell_type": "code",
      "source": [
        "!wget https://github.com/ilyagerman52/bioinformatics/raw/main/homework6/Part2/Assignment2/results.csv -O fragment_results.csv -q"
      ],
      "metadata": {
        "id": "faKUfLfGPTfz"
      },
      "execution_count": 14,
      "outputs": []
    },
    {
      "cell_type": "code",
      "source": [
        "import pandas as pd\n",
        "\n",
        "fragment_results = pd.read_csv(\"fragment_results.csv\", header=None)\n",
        "fragment_results"
      ],
      "metadata": {
        "id": "AITqRB_mPVdw",
        "colab": {
          "base_uri": "https://localhost:8080/",
          "height": 424
        },
        "outputId": "01cd60a7-c131-4a46-ffc4-7b3f2144daff"
      },
      "execution_count": 15,
      "outputs": [
        {
          "output_type": "execute_result",
          "data": {
            "text/plain": [
              "              0            1      2    3   4   5   6    7     8     9   \\\n",
              "0   fragment_100  AL360015.25  100.0  100   0   0   1  100  9052  8953   \n",
              "1    fragment_99  AL360015.25  100.0   99   0   0   1   99  9052  8954   \n",
              "2    fragment_98  AL360015.25  100.0   98   0   0   1   98  9052  8955   \n",
              "3    fragment_97  AL360015.25  100.0   97   0   0   1   97  9052  8956   \n",
              "4    fragment_96  AL360015.25  100.0   96   0   0   1   96  9052  8957   \n",
              "..           ...          ...    ...  ...  ..  ..  ..  ...   ...   ...   \n",
              "71   fragment_29     X01574.1  100.0   29   0   0   1   29  1296  1324   \n",
              "72   fragment_28     X01574.1  100.0   28   0   0   1   28  1296  1323   \n",
              "73   fragment_27     X01574.1  100.0   27   0   0   1   27  1296  1322   \n",
              "74   fragment_26     X01574.1  100.0   26   0   0   1   26  1296  1321   \n",
              "75   fragment_25     X01574.1  100.0   25   0   0   1   25  1296  1320   \n",
              "\n",
              "              10     11  \n",
              "0   1.330000e-41  181.0  \n",
              "1   4.570000e-41  179.0  \n",
              "2   1.570000e-40  178.0  \n",
              "3   5.380000e-40  176.0  \n",
              "4   1.850000e-39  174.0  \n",
              "..           ...    ...  \n",
              "71  2.210000e-04   53.6  \n",
              "72  7.720000e-04   51.8  \n",
              "73  3.000000e-03   50.0  \n",
              "74  9.000000e-03   48.2  \n",
              "75  3.300000e-02   46.4  \n",
              "\n",
              "[76 rows x 12 columns]"
            ],
            "text/html": [
              "\n",
              "  <div id=\"df-12e0070a-e563-4b72-ba9b-803cb64c3e9f\">\n",
              "    <div class=\"colab-df-container\">\n",
              "      <div>\n",
              "<style scoped>\n",
              "    .dataframe tbody tr th:only-of-type {\n",
              "        vertical-align: middle;\n",
              "    }\n",
              "\n",
              "    .dataframe tbody tr th {\n",
              "        vertical-align: top;\n",
              "    }\n",
              "\n",
              "    .dataframe thead th {\n",
              "        text-align: right;\n",
              "    }\n",
              "</style>\n",
              "<table border=\"1\" class=\"dataframe\">\n",
              "  <thead>\n",
              "    <tr style=\"text-align: right;\">\n",
              "      <th></th>\n",
              "      <th>0</th>\n",
              "      <th>1</th>\n",
              "      <th>2</th>\n",
              "      <th>3</th>\n",
              "      <th>4</th>\n",
              "      <th>5</th>\n",
              "      <th>6</th>\n",
              "      <th>7</th>\n",
              "      <th>8</th>\n",
              "      <th>9</th>\n",
              "      <th>10</th>\n",
              "      <th>11</th>\n",
              "    </tr>\n",
              "  </thead>\n",
              "  <tbody>\n",
              "    <tr>\n",
              "      <th>0</th>\n",
              "      <td>fragment_100</td>\n",
              "      <td>AL360015.25</td>\n",
              "      <td>100.0</td>\n",
              "      <td>100</td>\n",
              "      <td>0</td>\n",
              "      <td>0</td>\n",
              "      <td>1</td>\n",
              "      <td>100</td>\n",
              "      <td>9052</td>\n",
              "      <td>8953</td>\n",
              "      <td>1.330000e-41</td>\n",
              "      <td>181.0</td>\n",
              "    </tr>\n",
              "    <tr>\n",
              "      <th>1</th>\n",
              "      <td>fragment_99</td>\n",
              "      <td>AL360015.25</td>\n",
              "      <td>100.0</td>\n",
              "      <td>99</td>\n",
              "      <td>0</td>\n",
              "      <td>0</td>\n",
              "      <td>1</td>\n",
              "      <td>99</td>\n",
              "      <td>9052</td>\n",
              "      <td>8954</td>\n",
              "      <td>4.570000e-41</td>\n",
              "      <td>179.0</td>\n",
              "    </tr>\n",
              "    <tr>\n",
              "      <th>2</th>\n",
              "      <td>fragment_98</td>\n",
              "      <td>AL360015.25</td>\n",
              "      <td>100.0</td>\n",
              "      <td>98</td>\n",
              "      <td>0</td>\n",
              "      <td>0</td>\n",
              "      <td>1</td>\n",
              "      <td>98</td>\n",
              "      <td>9052</td>\n",
              "      <td>8955</td>\n",
              "      <td>1.570000e-40</td>\n",
              "      <td>178.0</td>\n",
              "    </tr>\n",
              "    <tr>\n",
              "      <th>3</th>\n",
              "      <td>fragment_97</td>\n",
              "      <td>AL360015.25</td>\n",
              "      <td>100.0</td>\n",
              "      <td>97</td>\n",
              "      <td>0</td>\n",
              "      <td>0</td>\n",
              "      <td>1</td>\n",
              "      <td>97</td>\n",
              "      <td>9052</td>\n",
              "      <td>8956</td>\n",
              "      <td>5.380000e-40</td>\n",
              "      <td>176.0</td>\n",
              "    </tr>\n",
              "    <tr>\n",
              "      <th>4</th>\n",
              "      <td>fragment_96</td>\n",
              "      <td>AL360015.25</td>\n",
              "      <td>100.0</td>\n",
              "      <td>96</td>\n",
              "      <td>0</td>\n",
              "      <td>0</td>\n",
              "      <td>1</td>\n",
              "      <td>96</td>\n",
              "      <td>9052</td>\n",
              "      <td>8957</td>\n",
              "      <td>1.850000e-39</td>\n",
              "      <td>174.0</td>\n",
              "    </tr>\n",
              "    <tr>\n",
              "      <th>...</th>\n",
              "      <td>...</td>\n",
              "      <td>...</td>\n",
              "      <td>...</td>\n",
              "      <td>...</td>\n",
              "      <td>...</td>\n",
              "      <td>...</td>\n",
              "      <td>...</td>\n",
              "      <td>...</td>\n",
              "      <td>...</td>\n",
              "      <td>...</td>\n",
              "      <td>...</td>\n",
              "      <td>...</td>\n",
              "    </tr>\n",
              "    <tr>\n",
              "      <th>71</th>\n",
              "      <td>fragment_29</td>\n",
              "      <td>X01574.1</td>\n",
              "      <td>100.0</td>\n",
              "      <td>29</td>\n",
              "      <td>0</td>\n",
              "      <td>0</td>\n",
              "      <td>1</td>\n",
              "      <td>29</td>\n",
              "      <td>1296</td>\n",
              "      <td>1324</td>\n",
              "      <td>2.210000e-04</td>\n",
              "      <td>53.6</td>\n",
              "    </tr>\n",
              "    <tr>\n",
              "      <th>72</th>\n",
              "      <td>fragment_28</td>\n",
              "      <td>X01574.1</td>\n",
              "      <td>100.0</td>\n",
              "      <td>28</td>\n",
              "      <td>0</td>\n",
              "      <td>0</td>\n",
              "      <td>1</td>\n",
              "      <td>28</td>\n",
              "      <td>1296</td>\n",
              "      <td>1323</td>\n",
              "      <td>7.720000e-04</td>\n",
              "      <td>51.8</td>\n",
              "    </tr>\n",
              "    <tr>\n",
              "      <th>73</th>\n",
              "      <td>fragment_27</td>\n",
              "      <td>X01574.1</td>\n",
              "      <td>100.0</td>\n",
              "      <td>27</td>\n",
              "      <td>0</td>\n",
              "      <td>0</td>\n",
              "      <td>1</td>\n",
              "      <td>27</td>\n",
              "      <td>1296</td>\n",
              "      <td>1322</td>\n",
              "      <td>3.000000e-03</td>\n",
              "      <td>50.0</td>\n",
              "    </tr>\n",
              "    <tr>\n",
              "      <th>74</th>\n",
              "      <td>fragment_26</td>\n",
              "      <td>X01574.1</td>\n",
              "      <td>100.0</td>\n",
              "      <td>26</td>\n",
              "      <td>0</td>\n",
              "      <td>0</td>\n",
              "      <td>1</td>\n",
              "      <td>26</td>\n",
              "      <td>1296</td>\n",
              "      <td>1321</td>\n",
              "      <td>9.000000e-03</td>\n",
              "      <td>48.2</td>\n",
              "    </tr>\n",
              "    <tr>\n",
              "      <th>75</th>\n",
              "      <td>fragment_25</td>\n",
              "      <td>X01574.1</td>\n",
              "      <td>100.0</td>\n",
              "      <td>25</td>\n",
              "      <td>0</td>\n",
              "      <td>0</td>\n",
              "      <td>1</td>\n",
              "      <td>25</td>\n",
              "      <td>1296</td>\n",
              "      <td>1320</td>\n",
              "      <td>3.300000e-02</td>\n",
              "      <td>46.4</td>\n",
              "    </tr>\n",
              "  </tbody>\n",
              "</table>\n",
              "<p>76 rows × 12 columns</p>\n",
              "</div>\n",
              "      <button class=\"colab-df-convert\" onclick=\"convertToInteractive('df-12e0070a-e563-4b72-ba9b-803cb64c3e9f')\"\n",
              "              title=\"Convert this dataframe to an interactive table.\"\n",
              "              style=\"display:none;\">\n",
              "        \n",
              "  <svg xmlns=\"http://www.w3.org/2000/svg\" height=\"24px\"viewBox=\"0 0 24 24\"\n",
              "       width=\"24px\">\n",
              "    <path d=\"M0 0h24v24H0V0z\" fill=\"none\"/>\n",
              "    <path d=\"M18.56 5.44l.94 2.06.94-2.06 2.06-.94-2.06-.94-.94-2.06-.94 2.06-2.06.94zm-11 1L8.5 8.5l.94-2.06 2.06-.94-2.06-.94L8.5 2.5l-.94 2.06-2.06.94zm10 10l.94 2.06.94-2.06 2.06-.94-2.06-.94-.94-2.06-.94 2.06-2.06.94z\"/><path d=\"M17.41 7.96l-1.37-1.37c-.4-.4-.92-.59-1.43-.59-.52 0-1.04.2-1.43.59L10.3 9.45l-7.72 7.72c-.78.78-.78 2.05 0 2.83L4 21.41c.39.39.9.59 1.41.59.51 0 1.02-.2 1.41-.59l7.78-7.78 2.81-2.81c.8-.78.8-2.07 0-2.86zM5.41 20L4 18.59l7.72-7.72 1.47 1.35L5.41 20z\"/>\n",
              "  </svg>\n",
              "      </button>\n",
              "      \n",
              "  <style>\n",
              "    .colab-df-container {\n",
              "      display:flex;\n",
              "      flex-wrap:wrap;\n",
              "      gap: 12px;\n",
              "    }\n",
              "\n",
              "    .colab-df-convert {\n",
              "      background-color: #E8F0FE;\n",
              "      border: none;\n",
              "      border-radius: 50%;\n",
              "      cursor: pointer;\n",
              "      display: none;\n",
              "      fill: #1967D2;\n",
              "      height: 32px;\n",
              "      padding: 0 0 0 0;\n",
              "      width: 32px;\n",
              "    }\n",
              "\n",
              "    .colab-df-convert:hover {\n",
              "      background-color: #E2EBFA;\n",
              "      box-shadow: 0px 1px 2px rgba(60, 64, 67, 0.3), 0px 1px 3px 1px rgba(60, 64, 67, 0.15);\n",
              "      fill: #174EA6;\n",
              "    }\n",
              "\n",
              "    [theme=dark] .colab-df-convert {\n",
              "      background-color: #3B4455;\n",
              "      fill: #D2E3FC;\n",
              "    }\n",
              "\n",
              "    [theme=dark] .colab-df-convert:hover {\n",
              "      background-color: #434B5C;\n",
              "      box-shadow: 0px 1px 3px 1px rgba(0, 0, 0, 0.15);\n",
              "      filter: drop-shadow(0px 1px 2px rgba(0, 0, 0, 0.3));\n",
              "      fill: #FFFFFF;\n",
              "    }\n",
              "  </style>\n",
              "\n",
              "      <script>\n",
              "        const buttonEl =\n",
              "          document.querySelector('#df-12e0070a-e563-4b72-ba9b-803cb64c3e9f button.colab-df-convert');\n",
              "        buttonEl.style.display =\n",
              "          google.colab.kernel.accessAllowed ? 'block' : 'none';\n",
              "\n",
              "        async function convertToInteractive(key) {\n",
              "          const element = document.querySelector('#df-12e0070a-e563-4b72-ba9b-803cb64c3e9f');\n",
              "          const dataTable =\n",
              "            await google.colab.kernel.invokeFunction('convertToInteractive',\n",
              "                                                     [key], {});\n",
              "          if (!dataTable) return;\n",
              "\n",
              "          const docLinkHtml = 'Like what you see? Visit the ' +\n",
              "            '<a target=\"_blank\" href=https://colab.research.google.com/notebooks/data_table.ipynb>data table notebook</a>'\n",
              "            + ' to learn more about interactive tables.';\n",
              "          element.innerHTML = '';\n",
              "          dataTable['output_type'] = 'display_data';\n",
              "          await google.colab.output.renderOutput(dataTable, element);\n",
              "          const docLink = document.createElement('div');\n",
              "          docLink.innerHTML = docLinkHtml;\n",
              "          element.appendChild(docLink);\n",
              "        }\n",
              "      </script>\n",
              "    </div>\n",
              "  </div>\n",
              "  "
            ]
          },
          "metadata": {},
          "execution_count": 15
        }
      ]
    },
    {
      "cell_type": "markdown",
      "metadata": {
        "id": "HTqOb_fv7msR"
      },
      "source": [
        "**b)** If we set limitations as only human(taxis:9606) organism and do the same thing, we will get table with fragments with length $100 - 21$. It means that fragments with length less then $21$ have $\\text{e-value} > 0.05$. In this case we faced with decreasing minimal length for limitation $\\text{e-value} <= 0.05$. It follows from the decriesing number of alignments according to fixed organism."
      ]
    },
    {
      "cell_type": "code",
      "source": [
        "!wget https://github.com/ilyagerman52/bioinformatics/raw/main/homework6/Part2/Assignment2/only_human_results.csv -O fragment_only_human_results.csv -q"
      ],
      "metadata": {
        "id": "NpR0HR8RP5iO"
      },
      "execution_count": 16,
      "outputs": []
    },
    {
      "cell_type": "code",
      "source": [
        "fragment_only_human_results = pd.read_csv(\"fragment_only_human_results.csv\", header=None)\n",
        "fragment_only_human_results"
      ],
      "metadata": {
        "id": "trC6zudDRW86",
        "colab": {
          "base_uri": "https://localhost:8080/",
          "height": 424
        },
        "outputId": "9fd3acaf-d334-47ea-bdb5-4f93b0276f85"
      },
      "execution_count": 17,
      "outputs": [
        {
          "output_type": "execute_result",
          "data": {
            "text/plain": [
              "              0            1      2    3   4   5   6    7     8     9   \\\n",
              "0   fragment_100  AL360015.25  100.0  100   0   0   1  100  9052  8953   \n",
              "1    fragment_99  AL360015.25  100.0   99   0   0   1   99  9052  8954   \n",
              "2    fragment_98  AL360015.25  100.0   98   0   0   1   98  9052  8955   \n",
              "3    fragment_97  AL360015.25  100.0   97   0   0   1   97  9052  8956   \n",
              "4    fragment_96  AL360015.25  100.0   96   0   0   1   96  9052  8957   \n",
              "..           ...          ...    ...  ...  ..  ..  ..  ...   ...   ...   \n",
              "75   fragment_25     X01574.1  100.0   25   0   0   1   25  1296  1320   \n",
              "76   fragment_24     X01574.1  100.0   24   0   0   1   24  1296  1319   \n",
              "77   fragment_23     X01574.1  100.0   23   0   0   1   23  1296  1318   \n",
              "78   fragment_22     X01574.1  100.0   22   0   0   1   22  1296  1317   \n",
              "79   fragment_21     X01574.1  100.0   21   0   0   1   21  1296  1316   \n",
              "\n",
              "              10     11  \n",
              "0   1.310000e-43  181.0  \n",
              "1   4.510000e-43  179.0  \n",
              "2   1.550000e-42  178.0  \n",
              "3   5.330000e-42  176.0  \n",
              "4   1.830000e-41  174.0  \n",
              "..           ...    ...  \n",
              "75  2.960000e-04   46.4  \n",
              "76  1.000000e-03   44.6  \n",
              "77  4.000000e-03   42.8  \n",
              "78  1.300000e-02   41.0  \n",
              "79  4.400000e-02   39.2  \n",
              "\n",
              "[80 rows x 12 columns]"
            ],
            "text/html": [
              "\n",
              "  <div id=\"df-3b6f5028-7ca5-44d0-a02a-88bf620d7336\">\n",
              "    <div class=\"colab-df-container\">\n",
              "      <div>\n",
              "<style scoped>\n",
              "    .dataframe tbody tr th:only-of-type {\n",
              "        vertical-align: middle;\n",
              "    }\n",
              "\n",
              "    .dataframe tbody tr th {\n",
              "        vertical-align: top;\n",
              "    }\n",
              "\n",
              "    .dataframe thead th {\n",
              "        text-align: right;\n",
              "    }\n",
              "</style>\n",
              "<table border=\"1\" class=\"dataframe\">\n",
              "  <thead>\n",
              "    <tr style=\"text-align: right;\">\n",
              "      <th></th>\n",
              "      <th>0</th>\n",
              "      <th>1</th>\n",
              "      <th>2</th>\n",
              "      <th>3</th>\n",
              "      <th>4</th>\n",
              "      <th>5</th>\n",
              "      <th>6</th>\n",
              "      <th>7</th>\n",
              "      <th>8</th>\n",
              "      <th>9</th>\n",
              "      <th>10</th>\n",
              "      <th>11</th>\n",
              "    </tr>\n",
              "  </thead>\n",
              "  <tbody>\n",
              "    <tr>\n",
              "      <th>0</th>\n",
              "      <td>fragment_100</td>\n",
              "      <td>AL360015.25</td>\n",
              "      <td>100.0</td>\n",
              "      <td>100</td>\n",
              "      <td>0</td>\n",
              "      <td>0</td>\n",
              "      <td>1</td>\n",
              "      <td>100</td>\n",
              "      <td>9052</td>\n",
              "      <td>8953</td>\n",
              "      <td>1.310000e-43</td>\n",
              "      <td>181.0</td>\n",
              "    </tr>\n",
              "    <tr>\n",
              "      <th>1</th>\n",
              "      <td>fragment_99</td>\n",
              "      <td>AL360015.25</td>\n",
              "      <td>100.0</td>\n",
              "      <td>99</td>\n",
              "      <td>0</td>\n",
              "      <td>0</td>\n",
              "      <td>1</td>\n",
              "      <td>99</td>\n",
              "      <td>9052</td>\n",
              "      <td>8954</td>\n",
              "      <td>4.510000e-43</td>\n",
              "      <td>179.0</td>\n",
              "    </tr>\n",
              "    <tr>\n",
              "      <th>2</th>\n",
              "      <td>fragment_98</td>\n",
              "      <td>AL360015.25</td>\n",
              "      <td>100.0</td>\n",
              "      <td>98</td>\n",
              "      <td>0</td>\n",
              "      <td>0</td>\n",
              "      <td>1</td>\n",
              "      <td>98</td>\n",
              "      <td>9052</td>\n",
              "      <td>8955</td>\n",
              "      <td>1.550000e-42</td>\n",
              "      <td>178.0</td>\n",
              "    </tr>\n",
              "    <tr>\n",
              "      <th>3</th>\n",
              "      <td>fragment_97</td>\n",
              "      <td>AL360015.25</td>\n",
              "      <td>100.0</td>\n",
              "      <td>97</td>\n",
              "      <td>0</td>\n",
              "      <td>0</td>\n",
              "      <td>1</td>\n",
              "      <td>97</td>\n",
              "      <td>9052</td>\n",
              "      <td>8956</td>\n",
              "      <td>5.330000e-42</td>\n",
              "      <td>176.0</td>\n",
              "    </tr>\n",
              "    <tr>\n",
              "      <th>4</th>\n",
              "      <td>fragment_96</td>\n",
              "      <td>AL360015.25</td>\n",
              "      <td>100.0</td>\n",
              "      <td>96</td>\n",
              "      <td>0</td>\n",
              "      <td>0</td>\n",
              "      <td>1</td>\n",
              "      <td>96</td>\n",
              "      <td>9052</td>\n",
              "      <td>8957</td>\n",
              "      <td>1.830000e-41</td>\n",
              "      <td>174.0</td>\n",
              "    </tr>\n",
              "    <tr>\n",
              "      <th>...</th>\n",
              "      <td>...</td>\n",
              "      <td>...</td>\n",
              "      <td>...</td>\n",
              "      <td>...</td>\n",
              "      <td>...</td>\n",
              "      <td>...</td>\n",
              "      <td>...</td>\n",
              "      <td>...</td>\n",
              "      <td>...</td>\n",
              "      <td>...</td>\n",
              "      <td>...</td>\n",
              "      <td>...</td>\n",
              "    </tr>\n",
              "    <tr>\n",
              "      <th>75</th>\n",
              "      <td>fragment_25</td>\n",
              "      <td>X01574.1</td>\n",
              "      <td>100.0</td>\n",
              "      <td>25</td>\n",
              "      <td>0</td>\n",
              "      <td>0</td>\n",
              "      <td>1</td>\n",
              "      <td>25</td>\n",
              "      <td>1296</td>\n",
              "      <td>1320</td>\n",
              "      <td>2.960000e-04</td>\n",
              "      <td>46.4</td>\n",
              "    </tr>\n",
              "    <tr>\n",
              "      <th>76</th>\n",
              "      <td>fragment_24</td>\n",
              "      <td>X01574.1</td>\n",
              "      <td>100.0</td>\n",
              "      <td>24</td>\n",
              "      <td>0</td>\n",
              "      <td>0</td>\n",
              "      <td>1</td>\n",
              "      <td>24</td>\n",
              "      <td>1296</td>\n",
              "      <td>1319</td>\n",
              "      <td>1.000000e-03</td>\n",
              "      <td>44.6</td>\n",
              "    </tr>\n",
              "    <tr>\n",
              "      <th>77</th>\n",
              "      <td>fragment_23</td>\n",
              "      <td>X01574.1</td>\n",
              "      <td>100.0</td>\n",
              "      <td>23</td>\n",
              "      <td>0</td>\n",
              "      <td>0</td>\n",
              "      <td>1</td>\n",
              "      <td>23</td>\n",
              "      <td>1296</td>\n",
              "      <td>1318</td>\n",
              "      <td>4.000000e-03</td>\n",
              "      <td>42.8</td>\n",
              "    </tr>\n",
              "    <tr>\n",
              "      <th>78</th>\n",
              "      <td>fragment_22</td>\n",
              "      <td>X01574.1</td>\n",
              "      <td>100.0</td>\n",
              "      <td>22</td>\n",
              "      <td>0</td>\n",
              "      <td>0</td>\n",
              "      <td>1</td>\n",
              "      <td>22</td>\n",
              "      <td>1296</td>\n",
              "      <td>1317</td>\n",
              "      <td>1.300000e-02</td>\n",
              "      <td>41.0</td>\n",
              "    </tr>\n",
              "    <tr>\n",
              "      <th>79</th>\n",
              "      <td>fragment_21</td>\n",
              "      <td>X01574.1</td>\n",
              "      <td>100.0</td>\n",
              "      <td>21</td>\n",
              "      <td>0</td>\n",
              "      <td>0</td>\n",
              "      <td>1</td>\n",
              "      <td>21</td>\n",
              "      <td>1296</td>\n",
              "      <td>1316</td>\n",
              "      <td>4.400000e-02</td>\n",
              "      <td>39.2</td>\n",
              "    </tr>\n",
              "  </tbody>\n",
              "</table>\n",
              "<p>80 rows × 12 columns</p>\n",
              "</div>\n",
              "      <button class=\"colab-df-convert\" onclick=\"convertToInteractive('df-3b6f5028-7ca5-44d0-a02a-88bf620d7336')\"\n",
              "              title=\"Convert this dataframe to an interactive table.\"\n",
              "              style=\"display:none;\">\n",
              "        \n",
              "  <svg xmlns=\"http://www.w3.org/2000/svg\" height=\"24px\"viewBox=\"0 0 24 24\"\n",
              "       width=\"24px\">\n",
              "    <path d=\"M0 0h24v24H0V0z\" fill=\"none\"/>\n",
              "    <path d=\"M18.56 5.44l.94 2.06.94-2.06 2.06-.94-2.06-.94-.94-2.06-.94 2.06-2.06.94zm-11 1L8.5 8.5l.94-2.06 2.06-.94-2.06-.94L8.5 2.5l-.94 2.06-2.06.94zm10 10l.94 2.06.94-2.06 2.06-.94-2.06-.94-.94-2.06-.94 2.06-2.06.94z\"/><path d=\"M17.41 7.96l-1.37-1.37c-.4-.4-.92-.59-1.43-.59-.52 0-1.04.2-1.43.59L10.3 9.45l-7.72 7.72c-.78.78-.78 2.05 0 2.83L4 21.41c.39.39.9.59 1.41.59.51 0 1.02-.2 1.41-.59l7.78-7.78 2.81-2.81c.8-.78.8-2.07 0-2.86zM5.41 20L4 18.59l7.72-7.72 1.47 1.35L5.41 20z\"/>\n",
              "  </svg>\n",
              "      </button>\n",
              "      \n",
              "  <style>\n",
              "    .colab-df-container {\n",
              "      display:flex;\n",
              "      flex-wrap:wrap;\n",
              "      gap: 12px;\n",
              "    }\n",
              "\n",
              "    .colab-df-convert {\n",
              "      background-color: #E8F0FE;\n",
              "      border: none;\n",
              "      border-radius: 50%;\n",
              "      cursor: pointer;\n",
              "      display: none;\n",
              "      fill: #1967D2;\n",
              "      height: 32px;\n",
              "      padding: 0 0 0 0;\n",
              "      width: 32px;\n",
              "    }\n",
              "\n",
              "    .colab-df-convert:hover {\n",
              "      background-color: #E2EBFA;\n",
              "      box-shadow: 0px 1px 2px rgba(60, 64, 67, 0.3), 0px 1px 3px 1px rgba(60, 64, 67, 0.15);\n",
              "      fill: #174EA6;\n",
              "    }\n",
              "\n",
              "    [theme=dark] .colab-df-convert {\n",
              "      background-color: #3B4455;\n",
              "      fill: #D2E3FC;\n",
              "    }\n",
              "\n",
              "    [theme=dark] .colab-df-convert:hover {\n",
              "      background-color: #434B5C;\n",
              "      box-shadow: 0px 1px 3px 1px rgba(0, 0, 0, 0.15);\n",
              "      filter: drop-shadow(0px 1px 2px rgba(0, 0, 0, 0.3));\n",
              "      fill: #FFFFFF;\n",
              "    }\n",
              "  </style>\n",
              "\n",
              "      <script>\n",
              "        const buttonEl =\n",
              "          document.querySelector('#df-3b6f5028-7ca5-44d0-a02a-88bf620d7336 button.colab-df-convert');\n",
              "        buttonEl.style.display =\n",
              "          google.colab.kernel.accessAllowed ? 'block' : 'none';\n",
              "\n",
              "        async function convertToInteractive(key) {\n",
              "          const element = document.querySelector('#df-3b6f5028-7ca5-44d0-a02a-88bf620d7336');\n",
              "          const dataTable =\n",
              "            await google.colab.kernel.invokeFunction('convertToInteractive',\n",
              "                                                     [key], {});\n",
              "          if (!dataTable) return;\n",
              "\n",
              "          const docLinkHtml = 'Like what you see? Visit the ' +\n",
              "            '<a target=\"_blank\" href=https://colab.research.google.com/notebooks/data_table.ipynb>data table notebook</a>'\n",
              "            + ' to learn more about interactive tables.';\n",
              "          element.innerHTML = '';\n",
              "          dataTable['output_type'] = 'display_data';\n",
              "          await google.colab.output.renderOutput(dataTable, element);\n",
              "          const docLink = document.createElement('div');\n",
              "          docLink.innerHTML = docLinkHtml;\n",
              "          element.appendChild(docLink);\n",
              "        }\n",
              "      </script>\n",
              "    </div>\n",
              "  </div>\n",
              "  "
            ]
          },
          "metadata": {},
          "execution_count": 17
        }
      ]
    },
    {
      "cell_type": "markdown",
      "metadata": {
        "id": "YXfq_8BT9J_d"
      },
      "source": [
        "**graphics)** Downloaded tables are [here](https://github.com/ilyagerman52/bioinformatics/tree/main/homework6/Part2/Assignment2)."
      ]
    },
    {
      "cell_type": "code",
      "source": [
        "from math import log\n",
        "\n",
        "length = fragment_only_human_results[3].tolist()\n",
        "identities = fragment_only_human_results[2].tolist()\n",
        "evalue = fragment_only_human_results[10].tolist()\n",
        "log_evalue = list(map(lambda x: log(x), evalue))"
      ],
      "metadata": {
        "id": "LszXlmG7PCu1"
      },
      "execution_count": 18,
      "outputs": []
    },
    {
      "cell_type": "code",
      "source": [
        "import matplotlib.pyplot as plt\n",
        "\n",
        "plt.scatter(length, log_evalue)\n",
        "plt.title('Dependence of log e-value on the length of the sequence')\n",
        "plt.xlabel('Length')\n",
        "plt.ylabel('log e-value')\n",
        "plt.show()"
      ],
      "metadata": {
        "id": "e1C1CFZ7Ubyq",
        "colab": {
          "base_uri": "https://localhost:8080/",
          "height": 472
        },
        "outputId": "875d910e-ddab-4b18-d88e-538963fb7040"
      },
      "execution_count": 19,
      "outputs": [
        {
          "output_type": "display_data",
          "data": {
            "text/plain": [
              "<Figure size 640x480 with 1 Axes>"
            ],
            "image/png": "[encoded data removed]"
          },
          "metadata": {}
        }
      ]
    },
    {
      "cell_type": "markdown",
      "source": [
        "To tell the truth, I have no idea, why part of scatter is a bit higher, but it is admissible to say, that we get line-dependence. (Consequently exponent dependence between e-value and length)"
      ],
      "metadata": {
        "id": "iN5SOZoAdDRB"
      }
    },
    {
      "cell_type": "markdown",
      "source": [
        "To create maxN dependence, we need to use BLAST without limitation in algorithm parameter. So, run BLAST with `Max matches in a query range` equal to $10$ (I tried 0, but the file in that case is too big and it's difficult to work with it, while the true value of identities is the same only about 3 rows)."
      ],
      "metadata": {
        "id": "2LxPG4ZmyTLH"
      }
    },
    {
      "cell_type": "code",
      "source": [
        "!wget https://github.com/ilyagerman52/bioinformatics/raw/main/homework6/Part2/Assignment2/result_all.csv -O fragment_result_all.csv"
      ],
      "metadata": {
        "id": "4FKvfIT70PmE",
        "colab": {
          "base_uri": "https://localhost:8080/"
        },
        "outputId": "17e1ca4c-2882-4dab-e06d-0d8f26935c54"
      },
      "execution_count": 20,
      "outputs": [
        {
          "output_type": "stream",
          "name": "stdout",
          "text": [
            "--2023-05-14 20:46:05--  https://github.com/ilyagerman52/bioinformatics/raw/main/homework6/Part2/Assignment2/result_all.csv\n",
            "Resolving github.com (github.com)... 140.82.114.3\n",
            "Connecting to github.com (github.com)|140.82.114.3|:443... connected.\n",
            "HTTP request sent, awaiting response... 302 Found\n",
            "Location: https://raw.githubusercontent.com/ilyagerman52/bioinformatics/main/homework6/Part2/Assignment2/result_all.csv [following]\n",
            "--2023-05-14 20:46:05--  https://raw.githubusercontent.com/ilyagerman52/bioinformatics/main/homework6/Part2/Assignment2/result_all.csv\n",
            "Resolving raw.githubusercontent.com (raw.githubusercontent.com)... 185.199.111.133, 185.199.109.133, 185.199.108.133, ...\n",
            "Connecting to raw.githubusercontent.com (raw.githubusercontent.com)|185.199.111.133|:443... connected.\n",
            "HTTP request sent, awaiting response... 200 OK\n",
            "Length: 70102 (68K) [text/plain]\n",
            "Saving to: ‘fragment_result_all.csv’\n",
            "\n",
            "fragment_result_all 100%[===================>]  68.46K  --.-KB/s    in 0.01s   \n",
            "\n",
            "2023-05-14 20:46:05 (4.75 MB/s) - ‘fragment_result_all.csv’ saved [70102/70102]\n",
            "\n"
          ]
        }
      ]
    },
    {
      "cell_type": "code",
      "source": [
        "result_all = pd.read_csv(\"fragment_result_all.csv\", header=None)\n",
        "result_all.tail(20)"
      ],
      "metadata": {
        "id": "9ueXRM7m0ccl",
        "colab": {
          "base_uri": "https://localhost:8080/",
          "height": 677
        },
        "outputId": "ba6638c3-19d7-4b02-93c8-dd4f55fdf440"
      },
      "execution_count": 21,
      "outputs": [
        {
          "output_type": "execute_result",
          "data": {
            "text/plain": [
              "               0         1      2   3   4   5   6   7       8       9      10  \\\n",
              "1020  fragment_22  K01241.1  100.0  22   0   0   1  22    2210    2189  0.014   \n",
              "1021  fragment_22  K02402.1  100.0  22   0   0   1  22    1141    1120  0.014   \n",
              "1022  fragment_22  M22334.1  100.0  22   0   0   1  22    1354    1333  0.014   \n",
              "1023  fragment_22  M22333.1  100.0  22   0   0   1  22    3007    2986  0.014   \n",
              "1024  fragment_22  M69297.1  100.0  22   0   0   1  22    1529    1508  0.014   \n",
              "1025  fragment_22  M64554.1  100.0  22   0   0   1  22   22757   22778  0.014   \n",
              "1026  fragment_22  X01574.1  100.0  22   0   0   1  22    1296    1317  0.014   \n",
              "1027  fragment_21  L11910.1  100.0  21   0   0   1  21   79323   79343  0.047   \n",
              "1028  fragment_21  L11910.1  100.0  21   0   0   1  21  118543  118523  0.047   \n",
              "1029  fragment_21  L11910.1  100.0  21   0   0   1  21  167788  167768  0.047   \n",
              "1030  fragment_21  D00596.1  100.0  21   0   0   1  21    6552    6572  0.047   \n",
              "1031  fragment_21  M68841.1  100.0  21   0   0   1  21     850     830  0.047   \n",
              "1032  fragment_21  K01241.1  100.0  21   0   0   1  21    2210    2190  0.047   \n",
              "1033  fragment_21  K02402.1  100.0  21   0   0   1  21    1141    1121  0.047   \n",
              "1034  fragment_21  M22334.1  100.0  21   0   0   1  21    1354    1334  0.047   \n",
              "1035  fragment_21  M22333.1  100.0  21   0   0   1  21    3007    2987  0.047   \n",
              "1036  fragment_21  M69297.1  100.0  21   0   0   1  21    1529    1509  0.047   \n",
              "1037  fragment_21  M64554.1  100.0  21   0   0   1  21   18332   18312  0.047   \n",
              "1038  fragment_21  M64554.1  100.0  21   0   0   1  21   22757   22777  0.047   \n",
              "1039  fragment_21  X01574.1  100.0  21   0   0   1  21    1296    1316  0.047   \n",
              "\n",
              "        11  \n",
              "1020  41.0  \n",
              "1021  41.0  \n",
              "1022  41.0  \n",
              "1023  41.0  \n",
              "1024  41.0  \n",
              "1025  41.0  \n",
              "1026  41.0  \n",
              "1027  39.2  \n",
              "1028  39.2  \n",
              "1029  39.2  \n",
              "1030  39.2  \n",
              "1031  39.2  \n",
              "1032  39.2  \n",
              "1033  39.2  \n",
              "1034  39.2  \n",
              "1035  39.2  \n",
              "1036  39.2  \n",
              "1037  39.2  \n",
              "1038  39.2  \n",
              "1039  39.2  "
            ],
            "text/html": [
              "\n",
              "  <div id=\"df-d2647157-a16d-4e98-a218-7d5c87680f0c\">\n",
              "    <div class=\"colab-df-container\">\n",
              "      <div>\n",
              "<style scoped>\n",
              "    .dataframe tbody tr th:only-of-type {\n",
              "        vertical-align: middle;\n",
              "    }\n",
              "\n",
              "    .dataframe tbody tr th {\n",
              "        vertical-align: top;\n",
              "    }\n",
              "\n",
              "    .dataframe thead th {\n",
              "        text-align: right;\n",
              "    }\n",
              "</style>\n",
              "<table border=\"1\" class=\"dataframe\">\n",
              "  <thead>\n",
              "    <tr style=\"text-align: right;\">\n",
              "      <th></th>\n",
              "      <th>0</th>\n",
              "      <th>1</th>\n",
              "      <th>2</th>\n",
              "      <th>3</th>\n",
              "      <th>4</th>\n",
              "      <th>5</th>\n",
              "      <th>6</th>\n",
              "      <th>7</th>\n",
              "      <th>8</th>\n",
              "      <th>9</th>\n",
              "      <th>10</th>\n",
              "      <th>11</th>\n",
              "    </tr>\n",
              "  </thead>\n",
              "  <tbody>\n",
              "    <tr>\n",
              "      <th>1020</th>\n",
              "      <td>fragment_22</td>\n",
              "      <td>K01241.1</td>\n",
              "      <td>100.0</td>\n",
              "      <td>22</td>\n",
              "      <td>0</td>\n",
              "      <td>0</td>\n",
              "      <td>1</td>\n",
              "      <td>22</td>\n",
              "      <td>2210</td>\n",
              "      <td>2189</td>\n",
              "      <td>0.014</td>\n",
              "      <td>41.0</td>\n",
              "    </tr>\n",
              "    <tr>\n",
              "      <th>1021</th>\n",
              "      <td>fragment_22</td>\n",
              "      <td>K02402.1</td>\n",
              "      <td>100.0</td>\n",
              "      <td>22</td>\n",
              "      <td>0</td>\n",
              "      <td>0</td>\n",
              "      <td>1</td>\n",
              "      <td>22</td>\n",
              "      <td>1141</td>\n",
              "      <td>1120</td>\n",
              "      <td>0.014</td>\n",
              "      <td>41.0</td>\n",
              "    </tr>\n",
              "    <tr>\n",
              "      <th>1022</th>\n",
              "      <td>fragment_22</td>\n",
              "      <td>M22334.1</td>\n",
              "      <td>100.0</td>\n",
              "      <td>22</td>\n",
              "      <td>0</td>\n",
              "      <td>0</td>\n",
              "      <td>1</td>\n",
              "      <td>22</td>\n",
              "      <td>1354</td>\n",
              "      <td>1333</td>\n",
              "      <td>0.014</td>\n",
              "      <td>41.0</td>\n",
              "    </tr>\n",
              "    <tr>\n",
              "      <th>1023</th>\n",
              "      <td>fragment_22</td>\n",
              "      <td>M22333.1</td>\n",
              "      <td>100.0</td>\n",
              "      <td>22</td>\n",
              "      <td>0</td>\n",
              "      <td>0</td>\n",
              "      <td>1</td>\n",
              "      <td>22</td>\n",
              "      <td>3007</td>\n",
              "      <td>2986</td>\n",
              "      <td>0.014</td>\n",
              "      <td>41.0</td>\n",
              "    </tr>\n",
              "    <tr>\n",
              "      <th>1024</th>\n",
              "      <td>fragment_22</td>\n",
              "      <td>M69297.1</td>\n",
              "      <td>100.0</td>\n",
              "      <td>22</td>\n",
              "      <td>0</td>\n",
              "      <td>0</td>\n",
              "      <td>1</td>\n",
              "      <td>22</td>\n",
              "      <td>1529</td>\n",
              "      <td>1508</td>\n",
              "      <td>0.014</td>\n",
              "      <td>41.0</td>\n",
              "    </tr>\n",
              "    <tr>\n",
              "      <th>1025</th>\n",
              "      <td>fragment_22</td>\n",
              "      <td>M64554.1</td>\n",
              "      <td>100.0</td>\n",
              "      <td>22</td>\n",
              "      <td>0</td>\n",
              "      <td>0</td>\n",
              "      <td>1</td>\n",
              "      <td>22</td>\n",
              "      <td>22757</td>\n",
              "      <td>22778</td>\n",
              "      <td>0.014</td>\n",
              "      <td>41.0</td>\n",
              "    </tr>\n",
              "    <tr>\n",
              "      <th>1026</th>\n",
              "      <td>fragment_22</td>\n",
              "      <td>X01574.1</td>\n",
              "      <td>100.0</td>\n",
              "      <td>22</td>\n",
              "      <td>0</td>\n",
              "      <td>0</td>\n",
              "      <td>1</td>\n",
              "      <td>22</td>\n",
              "      <td>1296</td>\n",
              "      <td>1317</td>\n",
              "      <td>0.014</td>\n",
              "      <td>41.0</td>\n",
              "    </tr>\n",
              "    <tr>\n",
              "      <th>1027</th>\n",
              "      <td>fragment_21</td>\n",
              "      <td>L11910.1</td>\n",
              "      <td>100.0</td>\n",
              "      <td>21</td>\n",
              "      <td>0</td>\n",
              "      <td>0</td>\n",
              "      <td>1</td>\n",
              "      <td>21</td>\n",
              "      <td>79323</td>\n",
              "      <td>79343</td>\n",
              "      <td>0.047</td>\n",
              "      <td>39.2</td>\n",
              "    </tr>\n",
              "    <tr>\n",
              "      <th>1028</th>\n",
              "      <td>fragment_21</td>\n",
              "      <td>L11910.1</td>\n",
              "      <td>100.0</td>\n",
              "      <td>21</td>\n",
              "      <td>0</td>\n",
              "      <td>0</td>\n",
              "      <td>1</td>\n",
              "      <td>21</td>\n",
              "      <td>118543</td>\n",
              "      <td>118523</td>\n",
              "      <td>0.047</td>\n",
              "      <td>39.2</td>\n",
              "    </tr>\n",
              "    <tr>\n",
              "      <th>1029</th>\n",
              "      <td>fragment_21</td>\n",
              "      <td>L11910.1</td>\n",
              "      <td>100.0</td>\n",
              "      <td>21</td>\n",
              "      <td>0</td>\n",
              "      <td>0</td>\n",
              "      <td>1</td>\n",
              "      <td>21</td>\n",
              "      <td>167788</td>\n",
              "      <td>167768</td>\n",
              "      <td>0.047</td>\n",
              "      <td>39.2</td>\n",
              "    </tr>\n",
              "    <tr>\n",
              "      <th>1030</th>\n",
              "      <td>fragment_21</td>\n",
              "      <td>D00596.1</td>\n",
              "      <td>100.0</td>\n",
              "      <td>21</td>\n",
              "      <td>0</td>\n",
              "      <td>0</td>\n",
              "      <td>1</td>\n",
              "      <td>21</td>\n",
              "      <td>6552</td>\n",
              "      <td>6572</td>\n",
              "      <td>0.047</td>\n",
              "      <td>39.2</td>\n",
              "    </tr>\n",
              "    <tr>\n",
              "      <th>1031</th>\n",
              "      <td>fragment_21</td>\n",
              "      <td>M68841.1</td>\n",
              "      <td>100.0</td>\n",
              "      <td>21</td>\n",
              "      <td>0</td>\n",
              "      <td>0</td>\n",
              "      <td>1</td>\n",
              "      <td>21</td>\n",
              "      <td>850</td>\n",
              "      <td>830</td>\n",
              "      <td>0.047</td>\n",
              "      <td>39.2</td>\n",
              "    </tr>\n",
              "    <tr>\n",
              "      <th>1032</th>\n",
              "      <td>fragment_21</td>\n",
              "      <td>K01241.1</td>\n",
              "      <td>100.0</td>\n",
              "      <td>21</td>\n",
              "      <td>0</td>\n",
              "      <td>0</td>\n",
              "      <td>1</td>\n",
              "      <td>21</td>\n",
              "      <td>2210</td>\n",
              "      <td>2190</td>\n",
              "      <td>0.047</td>\n",
              "      <td>39.2</td>\n",
              "    </tr>\n",
              "    <tr>\n",
              "      <th>1033</th>\n",
              "      <td>fragment_21</td>\n",
              "      <td>K02402.1</td>\n",
              "      <td>100.0</td>\n",
              "      <td>21</td>\n",
              "      <td>0</td>\n",
              "      <td>0</td>\n",
              "      <td>1</td>\n",
              "      <td>21</td>\n",
              "      <td>1141</td>\n",
              "      <td>1121</td>\n",
              "      <td>0.047</td>\n",
              "      <td>39.2</td>\n",
              "    </tr>\n",
              "    <tr>\n",
              "      <th>1034</th>\n",
              "      <td>fragment_21</td>\n",
              "      <td>M22334.1</td>\n",
              "      <td>100.0</td>\n",
              "      <td>21</td>\n",
              "      <td>0</td>\n",
              "      <td>0</td>\n",
              "      <td>1</td>\n",
              "      <td>21</td>\n",
              "      <td>1354</td>\n",
              "      <td>1334</td>\n",
              "      <td>0.047</td>\n",
              "      <td>39.2</td>\n",
              "    </tr>\n",
              "    <tr>\n",
              "      <th>1035</th>\n",
              "      <td>fragment_21</td>\n",
              "      <td>M22333.1</td>\n",
              "      <td>100.0</td>\n",
              "      <td>21</td>\n",
              "      <td>0</td>\n",
              "      <td>0</td>\n",
              "      <td>1</td>\n",
              "      <td>21</td>\n",
              "      <td>3007</td>\n",
              "      <td>2987</td>\n",
              "      <td>0.047</td>\n",
              "      <td>39.2</td>\n",
              "    </tr>\n",
              "    <tr>\n",
              "      <th>1036</th>\n",
              "      <td>fragment_21</td>\n",
              "      <td>M69297.1</td>\n",
              "      <td>100.0</td>\n",
              "      <td>21</td>\n",
              "      <td>0</td>\n",
              "      <td>0</td>\n",
              "      <td>1</td>\n",
              "      <td>21</td>\n",
              "      <td>1529</td>\n",
              "      <td>1509</td>\n",
              "      <td>0.047</td>\n",
              "      <td>39.2</td>\n",
              "    </tr>\n",
              "    <tr>\n",
              "      <th>1037</th>\n",
              "      <td>fragment_21</td>\n",
              "      <td>M64554.1</td>\n",
              "      <td>100.0</td>\n",
              "      <td>21</td>\n",
              "      <td>0</td>\n",
              "      <td>0</td>\n",
              "      <td>1</td>\n",
              "      <td>21</td>\n",
              "      <td>18332</td>\n",
              "      <td>18312</td>\n",
              "      <td>0.047</td>\n",
              "      <td>39.2</td>\n",
              "    </tr>\n",
              "    <tr>\n",
              "      <th>1038</th>\n",
              "      <td>fragment_21</td>\n",
              "      <td>M64554.1</td>\n",
              "      <td>100.0</td>\n",
              "      <td>21</td>\n",
              "      <td>0</td>\n",
              "      <td>0</td>\n",
              "      <td>1</td>\n",
              "      <td>21</td>\n",
              "      <td>22757</td>\n",
              "      <td>22777</td>\n",
              "      <td>0.047</td>\n",
              "      <td>39.2</td>\n",
              "    </tr>\n",
              "    <tr>\n",
              "      <th>1039</th>\n",
              "      <td>fragment_21</td>\n",
              "      <td>X01574.1</td>\n",
              "      <td>100.0</td>\n",
              "      <td>21</td>\n",
              "      <td>0</td>\n",
              "      <td>0</td>\n",
              "      <td>1</td>\n",
              "      <td>21</td>\n",
              "      <td>1296</td>\n",
              "      <td>1316</td>\n",
              "      <td>0.047</td>\n",
              "      <td>39.2</td>\n",
              "    </tr>\n",
              "  </tbody>\n",
              "</table>\n",
              "</div>\n",
              "      <button class=\"colab-df-convert\" onclick=\"convertToInteractive('df-d2647157-a16d-4e98-a218-7d5c87680f0c')\"\n",
              "              title=\"Convert this dataframe to an interactive table.\"\n",
              "              style=\"display:none;\">\n",
              "        \n",
              "  <svg xmlns=\"http://www.w3.org/2000/svg\" height=\"24px\"viewBox=\"0 0 24 24\"\n",
              "       width=\"24px\">\n",
              "    <path d=\"M0 0h24v24H0V0z\" fill=\"none\"/>\n",
              "    <path d=\"M18.56 5.44l.94 2.06.94-2.06 2.06-.94-2.06-.94-.94-2.06-.94 2.06-2.06.94zm-11 1L8.5 8.5l.94-2.06 2.06-.94-2.06-.94L8.5 2.5l-.94 2.06-2.06.94zm10 10l.94 2.06.94-2.06 2.06-.94-2.06-.94-.94-2.06-.94 2.06-2.06.94z\"/><path d=\"M17.41 7.96l-1.37-1.37c-.4-.4-.92-.59-1.43-.59-.52 0-1.04.2-1.43.59L10.3 9.45l-7.72 7.72c-.78.78-.78 2.05 0 2.83L4 21.41c.39.39.9.59 1.41.59.51 0 1.02-.2 1.41-.59l7.78-7.78 2.81-2.81c.8-.78.8-2.07 0-2.86zM5.41 20L4 18.59l7.72-7.72 1.47 1.35L5.41 20z\"/>\n",
              "  </svg>\n",
              "      </button>\n",
              "      \n",
              "  <style>\n",
              "    .colab-df-container {\n",
              "      display:flex;\n",
              "      flex-wrap:wrap;\n",
              "      gap: 12px;\n",
              "    }\n",
              "\n",
              "    .colab-df-convert {\n",
              "      background-color: #E8F0FE;\n",
              "      border: none;\n",
              "      border-radius: 50%;\n",
              "      cursor: pointer;\n",
              "      display: none;\n",
              "      fill: #1967D2;\n",
              "      height: 32px;\n",
              "      padding: 0 0 0 0;\n",
              "      width: 32px;\n",
              "    }\n",
              "\n",
              "    .colab-df-convert:hover {\n",
              "      background-color: #E2EBFA;\n",
              "      box-shadow: 0px 1px 2px rgba(60, 64, 67, 0.3), 0px 1px 3px 1px rgba(60, 64, 67, 0.15);\n",
              "      fill: #174EA6;\n",
              "    }\n",
              "\n",
              "    [theme=dark] .colab-df-convert {\n",
              "      background-color: #3B4455;\n",
              "      fill: #D2E3FC;\n",
              "    }\n",
              "\n",
              "    [theme=dark] .colab-df-convert:hover {\n",
              "      background-color: #434B5C;\n",
              "      box-shadow: 0px 1px 3px 1px rgba(0, 0, 0, 0.15);\n",
              "      filter: drop-shadow(0px 1px 2px rgba(0, 0, 0, 0.3));\n",
              "      fill: #FFFFFF;\n",
              "    }\n",
              "  </style>\n",
              "\n",
              "      <script>\n",
              "        const buttonEl =\n",
              "          document.querySelector('#df-d2647157-a16d-4e98-a218-7d5c87680f0c button.colab-df-convert');\n",
              "        buttonEl.style.display =\n",
              "          google.colab.kernel.accessAllowed ? 'block' : 'none';\n",
              "\n",
              "        async function convertToInteractive(key) {\n",
              "          const element = document.querySelector('#df-d2647157-a16d-4e98-a218-7d5c87680f0c');\n",
              "          const dataTable =\n",
              "            await google.colab.kernel.invokeFunction('convertToInteractive',\n",
              "                                                     [key], {});\n",
              "          if (!dataTable) return;\n",
              "\n",
              "          const docLinkHtml = 'Like what you see? Visit the ' +\n",
              "            '<a target=\"_blank\" href=https://colab.research.google.com/notebooks/data_table.ipynb>data table notebook</a>'\n",
              "            + ' to learn more about interactive tables.';\n",
              "          element.innerHTML = '';\n",
              "          dataTable['output_type'] = 'display_data';\n",
              "          await google.colab.output.renderOutput(dataTable, element);\n",
              "          const docLink = document.createElement('div');\n",
              "          docLink.innerHTML = docLinkHtml;\n",
              "          element.appendChild(docLink);\n",
              "        }\n",
              "      </script>\n",
              "    </div>\n",
              "  </div>\n",
              "  "
            ]
          },
          "metadata": {},
          "execution_count": 21
        }
      ]
    },
    {
      "cell_type": "markdown",
      "source": [
        "I have no time to continue, the last graphic must be the constant line with $\\text{maxN} = 3$. "
      ],
      "metadata": {
        "id": "Ya8HvJUz_uMt"
      }
    }
  ],
  "metadata": {
    "colab": {
      "provenance": []
    },
    "kernelspec": {
      "display_name": "Python 3",
      "name": "python3"
    },
    "language_info": {
      "name": "python"
    }
  },
  "nbformat": 4,
  "nbformat_minor": 0
}