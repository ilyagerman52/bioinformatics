{
  "nbformat": 4,
  "nbformat_minor": 0,
  "metadata": {
    "colab": {
      "provenance": []
    },
    "kernelspec": {
      "name": "python3",
      "display_name": "Python 3"
    },
    "language_info": {
      "name": "python"
    }
  },
  "cells": [
    {
      "cell_type": "markdown",
      "source": [
        "# HomeWork 1.\n",
        "\n",
        "\n",
        "made by German Ilya"
      ],
      "metadata": {
        "id": "aJmGJu3W8R2k"
      }
    },
    {
      "cell_type": "markdown",
      "source": [
        "# Download files"
      ],
      "metadata": {
        "id": "2GTP-wYychZs"
      }
    },
    {
      "cell_type": "markdown",
      "source": [
        "Try to dowload genome of one of the most researched bacteria $Staphylococcus$ $aureus$. https://en.wikipedia.org/wiki/Staphylococcus_aureus\n",
        "\n",
        "But in directory https://ftp.ncbi.nlm.nih.gov/genomes/refseq/bacteria/Staphylococcus_aureus/latest_assembly_versions/ we can find instruction where genome we can download from."
      ],
      "metadata": {
        "id": "ad1byVpDQMHy"
      }
    },
    {
      "cell_type": "code",
      "execution_count": 1,
      "metadata": {
        "colab": {
          "base_uri": "https://localhost:8080/"
        },
        "id": "hSiT_tvB76s5",
        "outputId": "830654fb-9e62-4ada-a071-9358f523e1b9"
      },
      "outputs": [
        {
          "output_type": "stream",
          "name": "stdout",
          "text": [
            "--2022-10-04 19:13:07--  https://ftp.ncbi.nlm.nih.gov/genomes/refseq/bacteria/Staphylococcus_aureus/assembly_summary.txt\n",
            "Resolving ftp.ncbi.nlm.nih.gov (ftp.ncbi.nlm.nih.gov)... 165.112.9.229, 165.112.9.230, 2607:f220:41e:250::10, ...\n",
            "Connecting to ftp.ncbi.nlm.nih.gov (ftp.ncbi.nlm.nih.gov)|165.112.9.229|:443... connected.\n",
            "HTTP request sent, awaiting response... 200 OK\n",
            "Length: 4477251 (4.3M) [text/plain]\n",
            "Saving to: ‘assembly_summary.txt’\n",
            "\n",
            "assembly_summary.tx 100%[===================>]   4.27M  6.16MB/s    in 0.7s    \n",
            "\n",
            "2022-10-04 19:13:08 (6.16 MB/s) - ‘assembly_summary.txt’ saved [4477251/4477251]\n",
            "\n"
          ]
        }
      ],
      "source": [
        "!wget https://ftp.ncbi.nlm.nih.gov/genomes/refseq/bacteria/Staphylococcus_aureus/assembly_summary.txt"
      ]
    },
    {
      "cell_type": "markdown",
      "source": [
        "Download and unzip genome:"
      ],
      "metadata": {
        "id": "T5GBk1yISvBk"
      }
    },
    {
      "cell_type": "code",
      "source": [
        "!wget -r -nH --cut-dirs=5 ftp://ftp.ncbi.nlm.nih.gov/genomes/all/GCF/001/226/605/GCF_001226605.1_4395_5_10/\n",
        "!gzip -rd * ./GCF_001226605.1_4395_5_10"
      ],
      "metadata": {
        "id": "mrLnLtRKQJUx",
        "colab": {
          "base_uri": "https://localhost:8080/"
        },
        "outputId": "c9ea92ad-2bf1-42ff-fc51-33471d08a64c"
      },
      "execution_count": 2,
      "outputs": [
        {
          "output_type": "stream",
          "name": "stdout",
          "text": [
            "--2022-10-04 19:13:09--  ftp://ftp.ncbi.nlm.nih.gov/genomes/all/GCF/001/226/605/GCF_001226605.1_4395_5_10/\n",
            "           => ‘605/GCF_001226605.1_4395_5_10/.listing’\n",
            "Resolving ftp.ncbi.nlm.nih.gov (ftp.ncbi.nlm.nih.gov)... 165.112.9.229, 165.112.9.230, 2607:f220:41e:250::10, ...\n",
            "Connecting to ftp.ncbi.nlm.nih.gov (ftp.ncbi.nlm.nih.gov)|165.112.9.229|:21... connected.\n",
            "Logging in as anonymous ... Logged in!\n",
            "==> SYST ... done.    ==> PWD ... done.\n",
            "==> TYPE I ... done.  ==> CWD (1) /genomes/all/GCF/001/226/605/GCF_001226605.1_4395_5_10 ... done.\n",
            "==> PASV ... done.    ==> LIST ... done.\n",
            "\n",
            "605/GCF_001226605.1     [ <=>                ]   1.91K  --.-KB/s    in 0.1s    \n",
            "\n",
            "2022-10-04 19:13:10 (19.0 KB/s) - ‘605/GCF_001226605.1_4395_5_10/.listing’ saved [1955]\n",
            "\n",
            "Removed ‘605/GCF_001226605.1_4395_5_10/.listing’.\n",
            "--2022-10-04 19:13:10--  ftp://ftp.ncbi.nlm.nih.gov/genomes/all/GCF/001/226/605/GCF_001226605.1_4395_5_10/GCF_001226605.1_4395_5_10_assembly_report.txt\n",
            "           => ‘605/GCF_001226605.1_4395_5_10/GCF_001226605.1_4395_5_10_assembly_report.txt’\n",
            "==> CWD not required.\n",
            "==> PASV ... done.    ==> RETR GCF_001226605.1_4395_5_10_assembly_report.txt ... done.\n",
            "Length: 6808 (6.6K)\n",
            "\n",
            "605/GCF_001226605.1 100%[===================>]   6.65K  --.-KB/s    in 0.03s   \n",
            "\n",
            "2022-10-04 19:13:10 (199 KB/s) - ‘605/GCF_001226605.1_4395_5_10/GCF_001226605.1_4395_5_10_assembly_report.txt’ saved [6808]\n",
            "\n",
            "--2022-10-04 19:13:10--  ftp://ftp.ncbi.nlm.nih.gov/genomes/all/GCF/001/226/605/GCF_001226605.1_4395_5_10/GCF_001226605.1_4395_5_10_assembly_stats.txt\n",
            "           => ‘605/GCF_001226605.1_4395_5_10/GCF_001226605.1_4395_5_10_assembly_stats.txt’\n",
            "==> CWD not required.\n",
            "==> PASV ... done.    ==> RETR GCF_001226605.1_4395_5_10_assembly_stats.txt ... done.\n",
            "Length: 4775 (4.7K)\n",
            "\n",
            "605/GCF_001226605.1 100%[===================>]   4.66K  --.-KB/s    in 0.02s   \n",
            "\n",
            "2022-10-04 19:13:11 (300 KB/s) - ‘605/GCF_001226605.1_4395_5_10/GCF_001226605.1_4395_5_10_assembly_stats.txt’ saved [4775]\n",
            "\n",
            "--2022-10-04 19:13:11--  ftp://ftp.ncbi.nlm.nih.gov/genomes/all/GCF/001/226/605/GCF_001226605.1_4395_5_10/GCF_001226605.1_4395_5_10_cds_from_genomic.fna.gz\n",
            "           => ‘605/GCF_001226605.1_4395_5_10/GCF_001226605.1_4395_5_10_cds_from_genomic.fna.gz’\n",
            "==> CWD not required.\n",
            "==> PASV ... done.    ==> RETR GCF_001226605.1_4395_5_10_cds_from_genomic.fna.gz ... done.\n",
            "Length: 831794 (812K)\n",
            "\n",
            "605/GCF_001226605.1 100%[===================>] 812.30K  1.53MB/s    in 0.5s    \n",
            "\n",
            "2022-10-04 19:13:11 (1.53 MB/s) - ‘605/GCF_001226605.1_4395_5_10/GCF_001226605.1_4395_5_10_cds_from_genomic.fna.gz’ saved [831794]\n",
            "\n",
            "--2022-10-04 19:13:11--  ftp://ftp.ncbi.nlm.nih.gov/genomes/all/GCF/001/226/605/GCF_001226605.1_4395_5_10/GCF_001226605.1_4395_5_10_feature_count.txt.gz\n",
            "           => ‘605/GCF_001226605.1_4395_5_10/GCF_001226605.1_4395_5_10_feature_count.txt.gz’\n",
            "==> CWD not required.\n",
            "==> PASV ... done.    ==> RETR GCF_001226605.1_4395_5_10_feature_count.txt.gz ... done.\n",
            "Length: 273\n",
            "\n",
            "605/GCF_001226605.1 100%[===================>]     273  --.-KB/s    in 0.02s   \n",
            "\n",
            "2022-10-04 19:13:12 (12.8 KB/s) - ‘605/GCF_001226605.1_4395_5_10/GCF_001226605.1_4395_5_10_feature_count.txt.gz’ saved [273]\n",
            "\n",
            "--2022-10-04 19:13:12--  ftp://ftp.ncbi.nlm.nih.gov/genomes/all/GCF/001/226/605/GCF_001226605.1_4395_5_10/GCF_001226605.1_4395_5_10_feature_table.txt.gz\n",
            "           => ‘605/GCF_001226605.1_4395_5_10/GCF_001226605.1_4395_5_10_feature_table.txt.gz’\n",
            "==> CWD not required.\n",
            "==> PASV ... done.    ==> RETR GCF_001226605.1_4395_5_10_feature_table.txt.gz ... done.\n",
            "Length: 120289 (117K)\n",
            "\n",
            "605/GCF_001226605.1 100%[===================>] 117.47K   388KB/s    in 0.3s    \n",
            "\n",
            "2022-10-04 19:13:13 (388 KB/s) - ‘605/GCF_001226605.1_4395_5_10/GCF_001226605.1_4395_5_10_feature_table.txt.gz’ saved [120289]\n",
            "\n",
            "--2022-10-04 19:13:13--  ftp://ftp.ncbi.nlm.nih.gov/genomes/all/GCF/001/226/605/GCF_001226605.1_4395_5_10/GCF_001226605.1_4395_5_10_genomic.fna.gz\n",
            "           => ‘605/GCF_001226605.1_4395_5_10/GCF_001226605.1_4395_5_10_genomic.fna.gz’\n",
            "==> CWD not required.\n",
            "==> PASV ... done.    ==> RETR GCF_001226605.1_4395_5_10_genomic.fna.gz ... done.\n",
            "Length: 801835 (783K)\n",
            "\n",
            "605/GCF_001226605.1 100%[===================>] 783.04K  1.08MB/s    in 0.7s    \n",
            "\n",
            "2022-10-04 19:13:14 (1.08 MB/s) - ‘605/GCF_001226605.1_4395_5_10/GCF_001226605.1_4395_5_10_genomic.fna.gz’ saved [801835]\n",
            "\n",
            "--2022-10-04 19:13:14--  ftp://ftp.ncbi.nlm.nih.gov/genomes/all/GCF/001/226/605/GCF_001226605.1_4395_5_10/GCF_001226605.1_4395_5_10_genomic.gbff.gz\n",
            "           => ‘605/GCF_001226605.1_4395_5_10/GCF_001226605.1_4395_5_10_genomic.gbff.gz’\n",
            "==> CWD not required.\n",
            "==> PASV ... done.    ==> RETR GCF_001226605.1_4395_5_10_genomic.gbff.gz ... done.\n",
            "Length: 2032874 (1.9M)\n",
            "\n",
            "605/GCF_001226605.1 100%[===================>]   1.94M  2.35MB/s    in 0.8s    \n",
            "\n",
            "2022-10-04 19:13:15 (2.35 MB/s) - ‘605/GCF_001226605.1_4395_5_10/GCF_001226605.1_4395_5_10_genomic.gbff.gz’ saved [2032874]\n",
            "\n",
            "--2022-10-04 19:13:15--  ftp://ftp.ncbi.nlm.nih.gov/genomes/all/GCF/001/226/605/GCF_001226605.1_4395_5_10/GCF_001226605.1_4395_5_10_genomic.gff.gz\n",
            "           => ‘605/GCF_001226605.1_4395_5_10/GCF_001226605.1_4395_5_10_genomic.gff.gz’\n",
            "==> CWD not required.\n",
            "==> PASV ... done.    ==> RETR GCF_001226605.1_4395_5_10_genomic.gff.gz ... done.\n",
            "Length: 224200 (219K)\n",
            "\n",
            "605/GCF_001226605.1 100%[===================>] 218.95K   559KB/s    in 0.4s    \n",
            "\n",
            "2022-10-04 19:13:15 (559 KB/s) - ‘605/GCF_001226605.1_4395_5_10/GCF_001226605.1_4395_5_10_genomic.gff.gz’ saved [224200]\n",
            "\n",
            "--2022-10-04 19:13:15--  ftp://ftp.ncbi.nlm.nih.gov/genomes/all/GCF/001/226/605/GCF_001226605.1_4395_5_10/GCF_001226605.1_4395_5_10_genomic.gtf.gz\n",
            "           => ‘605/GCF_001226605.1_4395_5_10/GCF_001226605.1_4395_5_10_genomic.gtf.gz’\n",
            "==> CWD not required.\n",
            "==> PASV ... done.    ==> RETR GCF_001226605.1_4395_5_10_genomic.gtf.gz ... done.\n",
            "Length: 257715 (252K)\n",
            "\n",
            "605/GCF_001226605.1 100%[===================>] 251.67K   655KB/s    in 0.4s    \n",
            "\n",
            "2022-10-04 19:13:16 (655 KB/s) - ‘605/GCF_001226605.1_4395_5_10/GCF_001226605.1_4395_5_10_genomic.gtf.gz’ saved [257715]\n",
            "\n",
            "--2022-10-04 19:13:16--  ftp://ftp.ncbi.nlm.nih.gov/genomes/all/GCF/001/226/605/GCF_001226605.1_4395_5_10/GCF_001226605.1_4395_5_10_genomic_gaps.txt.gz\n",
            "           => ‘605/GCF_001226605.1_4395_5_10/GCF_001226605.1_4395_5_10_genomic_gaps.txt.gz’\n",
            "==> CWD not required.\n",
            "==> PASV ... done.    ==> RETR GCF_001226605.1_4395_5_10_genomic_gaps.txt.gz ... done.\n",
            "Length: 382\n",
            "\n",
            "605/GCF_001226605.1 100%[===================>]     382  --.-KB/s    in 0.1s    \n",
            "\n",
            "2022-10-04 19:13:17 (3.45 KB/s) - ‘605/GCF_001226605.1_4395_5_10/GCF_001226605.1_4395_5_10_genomic_gaps.txt.gz’ saved [382]\n",
            "\n",
            "--2022-10-04 19:13:17--  ftp://ftp.ncbi.nlm.nih.gov/genomes/all/GCF/001/226/605/GCF_001226605.1_4395_5_10/GCF_001226605.1_4395_5_10_protein.faa.gz\n",
            "           => ‘605/GCF_001226605.1_4395_5_10/GCF_001226605.1_4395_5_10_protein.faa.gz’\n",
            "==> CWD not required.\n",
            "==> PASV ... done.    ==> RETR GCF_001226605.1_4395_5_10_protein.faa.gz ... done.\n",
            "Length: 516053 (504K)\n",
            "\n",
            "605/GCF_001226605.1 100%[===================>] 503.96K  1.03MB/s    in 0.5s    \n",
            "\n",
            "2022-10-04 19:13:18 (1.03 MB/s) - ‘605/GCF_001226605.1_4395_5_10/GCF_001226605.1_4395_5_10_protein.faa.gz’ saved [516053]\n",
            "\n",
            "--2022-10-04 19:13:18--  ftp://ftp.ncbi.nlm.nih.gov/genomes/all/GCF/001/226/605/GCF_001226605.1_4395_5_10/GCF_001226605.1_4395_5_10_protein.gpff.gz\n",
            "           => ‘605/GCF_001226605.1_4395_5_10/GCF_001226605.1_4395_5_10_protein.gpff.gz’\n",
            "==> CWD not required.\n",
            "==> PASV ... done.    ==> RETR GCF_001226605.1_4395_5_10_protein.gpff.gz ... done.\n",
            "Length: 1407708 (1.3M)\n",
            "\n",
            "605/GCF_001226605.1 100%[===================>]   1.34M  1.81MB/s    in 0.7s    \n",
            "\n",
            "2022-10-04 19:13:19 (1.81 MB/s) - ‘605/GCF_001226605.1_4395_5_10/GCF_001226605.1_4395_5_10_protein.gpff.gz’ saved [1407708]\n",
            "\n",
            "--2022-10-04 19:13:19--  ftp://ftp.ncbi.nlm.nih.gov/genomes/all/GCF/001/226/605/GCF_001226605.1_4395_5_10/GCF_001226605.1_4395_5_10_rna_from_genomic.fna.gz\n",
            "           => ‘605/GCF_001226605.1_4395_5_10/GCF_001226605.1_4395_5_10_rna_from_genomic.fna.gz’\n",
            "==> CWD not required.\n",
            "==> PASV ... done.    ==> RETR GCF_001226605.1_4395_5_10_rna_from_genomic.fna.gz ... done.\n",
            "Length: 3901 (3.8K)\n",
            "\n",
            "605/GCF_001226605.1 100%[===================>]   3.81K  --.-KB/s    in 0.05s   \n",
            "\n",
            "2022-10-04 19:13:19 (82.2 KB/s) - ‘605/GCF_001226605.1_4395_5_10/GCF_001226605.1_4395_5_10_rna_from_genomic.fna.gz’ saved [3901]\n",
            "\n",
            "--2022-10-04 19:13:19--  ftp://ftp.ncbi.nlm.nih.gov/genomes/all/GCF/001/226/605/GCF_001226605.1_4395_5_10/GCF_001226605.1_4395_5_10_translated_cds.faa.gz\n",
            "           => ‘605/GCF_001226605.1_4395_5_10/GCF_001226605.1_4395_5_10_translated_cds.faa.gz’\n",
            "==> CWD not required.\n",
            "==> PASV ... done.    ==> RETR GCF_001226605.1_4395_5_10_translated_cds.faa.gz ... done.\n",
            "Length: 604591 (590K)\n",
            "\n",
            "605/GCF_001226605.1 100%[===================>] 590.42K  1.20MB/s    in 0.5s    \n",
            "\n",
            "2022-10-04 19:13:20 (1.20 MB/s) - ‘605/GCF_001226605.1_4395_5_10/GCF_001226605.1_4395_5_10_translated_cds.faa.gz’ saved [604591]\n",
            "\n",
            "--2022-10-04 19:13:20--  ftp://ftp.ncbi.nlm.nih.gov/genomes/all/GCF/001/226/605/GCF_001226605.1_4395_5_10/GCF_001226605.1_4395_5_10_wgsmaster.gbff.gz\n",
            "           => ‘605/GCF_001226605.1_4395_5_10/GCF_001226605.1_4395_5_10_wgsmaster.gbff.gz’\n",
            "==> CWD not required.\n",
            "==> PASV ... done.    ==> RETR GCF_001226605.1_4395_5_10_wgsmaster.gbff.gz ... done.\n",
            "Length: 1482 (1.4K)\n",
            "\n",
            "605/GCF_001226605.1 100%[===================>]   1.45K  --.-KB/s    in 0.02s   \n",
            "\n",
            "2022-10-04 19:13:20 (59.5 KB/s) - ‘605/GCF_001226605.1_4395_5_10/GCF_001226605.1_4395_5_10_wgsmaster.gbff.gz’ saved [1482]\n",
            "\n",
            "--2022-10-04 19:13:20--  ftp://ftp.ncbi.nlm.nih.gov/genomes/all/GCF/001/226/605/GCF_001226605.1_4395_5_10/README.txt\n",
            "           => ‘605/GCF_001226605.1_4395_5_10/README.txt’\n",
            "==> CWD not required.\n",
            "==> SIZE README.txt ... 44529\n",
            "==> PASV ... done.    ==> RETR README.txt ... done.\n",
            "Length: 44529 (43K) (unauthoritative)\n",
            "\n",
            "605/GCF_001226605.1 100%[===================>]  43.49K  --.-KB/s    in 0.09s   \n",
            "\n",
            "2022-10-04 19:13:21 (508 KB/s) - ‘605/GCF_001226605.1_4395_5_10/README.txt’ saved [44529]\n",
            "\n",
            "--2022-10-04 19:13:21--  ftp://ftp.ncbi.nlm.nih.gov/genomes/all/GCF/001/226/605/GCF_001226605.1_4395_5_10/annotation_hashes.txt\n",
            "           => ‘605/GCF_001226605.1_4395_5_10/annotation_hashes.txt’\n",
            "==> CWD not required.\n",
            "==> PASV ... done.    ==> RETR annotation_hashes.txt ... done.\n",
            "Length: 410\n",
            "\n",
            "605/GCF_001226605.1 100%[===================>]     410  --.-KB/s    in 0.07s   \n",
            "\n",
            "2022-10-04 19:13:21 (5.99 KB/s) - ‘605/GCF_001226605.1_4395_5_10/annotation_hashes.txt’ saved [410]\n",
            "\n",
            "--2022-10-04 19:13:21--  ftp://ftp.ncbi.nlm.nih.gov/genomes/all/GCF/001/226/605/GCF_001226605.1_4395_5_10/assembly_status.txt\n",
            "           => ‘605/GCF_001226605.1_4395_5_10/assembly_status.txt’\n",
            "==> CWD not required.\n",
            "==> PASV ... done.    ==> RETR assembly_status.txt ... done.\n",
            "Length: 14\n",
            "\n",
            "605/GCF_001226605.1 100%[===================>]      14  --.-KB/s    in 0.001s  \n",
            "\n",
            "2022-10-04 19:13:22 (14.6 KB/s) - ‘605/GCF_001226605.1_4395_5_10/assembly_status.txt’ saved [14]\n",
            "\n",
            "--2022-10-04 19:13:22--  ftp://ftp.ncbi.nlm.nih.gov/genomes/all/GCF/001/226/605/GCF_001226605.1_4395_5_10/md5checksums.txt\n",
            "           => ‘605/GCF_001226605.1_4395_5_10/md5checksums.txt’\n",
            "==> CWD not required.\n",
            "==> PASV ... done.    ==> RETR md5checksums.txt ... done.\n",
            "Length: 1794 (1.8K)\n",
            "\n",
            "605/GCF_001226605.1 100%[===================>]   1.75K  --.-KB/s    in 0.04s   \n",
            "\n",
            "2022-10-04 19:13:22 (45.3 KB/s) - ‘605/GCF_001226605.1_4395_5_10/md5checksums.txt’ saved [1794]\n",
            "\n",
            "--2022-10-04 19:13:22--  ftp://ftp.ncbi.nlm.nih.gov/genomes/all/GCF/001/226/605/GCF_001226605.1_4395_5_10/GCF_001226605.1_4395_5_10_assembly_structure/\n",
            "           => ‘605/GCF_001226605.1_4395_5_10/GCF_001226605.1_4395_5_10_assembly_structure/.listing’\n",
            "==> CWD (1) /genomes/all/GCF/001/226/605/GCF_001226605.1_4395_5_10/GCF_001226605.1_4395_5_10_assembly_structure ... done.\n",
            "==> PASV ... done.    ==> LIST ... done.\n",
            "\n",
            "605/GCF_001226605.1     [ <=>                ]     193  --.-KB/s    in 0.003s  \n",
            "\n",
            "2022-10-04 19:13:22 (55.9 KB/s) - ‘605/GCF_001226605.1_4395_5_10/GCF_001226605.1_4395_5_10_assembly_structure/.listing’ saved [193]\n",
            "\n",
            "Removed ‘605/GCF_001226605.1_4395_5_10/GCF_001226605.1_4395_5_10_assembly_structure/.listing’.\n",
            "--2022-10-04 19:13:22--  ftp://ftp.ncbi.nlm.nih.gov/genomes/all/GCF/001/226/605/GCF_001226605.1_4395_5_10/GCF_001226605.1_4395_5_10_assembly_structure/README.txt\n",
            "           => ‘605/GCF_001226605.1_4395_5_10/GCF_001226605.1_4395_5_10_assembly_structure/README.txt’\n",
            "==> CWD not required.\n",
            "==> SIZE README.txt ... 14493\n",
            "==> PASV ... done.    ==> RETR README.txt ... done.\n",
            "Length: 14493 (14K) (unauthoritative)\n",
            "\n",
            "605/GCF_001226605.1 100%[===================>]  14.15K  --.-KB/s    in 0s      \n",
            "\n",
            "2022-10-04 19:13:23 (168 MB/s) - ‘605/GCF_001226605.1_4395_5_10/GCF_001226605.1_4395_5_10_assembly_structure/README.txt’ saved [14493]\n",
            "\n",
            "--2022-10-04 19:13:23--  ftp://ftp.ncbi.nlm.nih.gov/genomes/all/GCF/001/226/605/GCF_001226605.1_4395_5_10/GCF_001226605.1_4395_5_10_assembly_structure/Primary_Assembly/\n",
            "           => ‘605/GCF_001226605.1_4395_5_10/GCF_001226605.1_4395_5_10_assembly_structure/Primary_Assembly/.listing’\n",
            "==> CWD (1) /genomes/all/GCF/001/226/605/GCF_001226605.1_4395_5_10/GCF_001226605.1_4395_5_10_assembly_structure/Primary_Assembly ... done.\n",
            "==> PASV ... done.    ==> LIST ... done.\n",
            "\n",
            "605/GCF_001226605.1     [ <=>                ]     233  --.-KB/s    in 0.006s  \n",
            "\n",
            "2022-10-04 19:13:23 (40.5 KB/s) - ‘605/GCF_001226605.1_4395_5_10/GCF_001226605.1_4395_5_10_assembly_structure/Primary_Assembly/.listing’ saved [233]\n",
            "\n",
            "Removed ‘605/GCF_001226605.1_4395_5_10/GCF_001226605.1_4395_5_10_assembly_structure/Primary_Assembly/.listing’.\n",
            "--2022-10-04 19:13:23--  ftp://ftp.ncbi.nlm.nih.gov/genomes/all/GCF/001/226/605/GCF_001226605.1_4395_5_10/GCF_001226605.1_4395_5_10_assembly_structure/Primary_Assembly/component_localID2acc\n",
            "           => ‘605/GCF_001226605.1_4395_5_10/GCF_001226605.1_4395_5_10_assembly_structure/Primary_Assembly/component_localID2acc’\n",
            "==> CWD not required.\n",
            "==> PASV ... done.    ==> RETR component_localID2acc ... done.\n",
            "Length: 1076 (1.1K)\n",
            "\n",
            "605/GCF_001226605.1 100%[===================>]   1.05K  --.-KB/s    in 0.01s   \n",
            "\n",
            "2022-10-04 19:13:24 (94.9 KB/s) - ‘605/GCF_001226605.1_4395_5_10/GCF_001226605.1_4395_5_10_assembly_structure/Primary_Assembly/component_localID2acc’ saved [1076]\n",
            "\n",
            "--2022-10-04 19:13:24--  ftp://ftp.ncbi.nlm.nih.gov/genomes/all/GCF/001/226/605/GCF_001226605.1_4395_5_10/GCF_001226605.1_4395_5_10_assembly_structure/Primary_Assembly/scaffold_localID2acc\n",
            "           => ‘605/GCF_001226605.1_4395_5_10/GCF_001226605.1_4395_5_10_assembly_structure/Primary_Assembly/scaffold_localID2acc’\n",
            "==> CWD not required.\n",
            "==> PASV ... done.    ==> RETR scaffold_localID2acc ... done.\n",
            "Length: 1829 (1.8K)\n",
            "\n",
            "605/GCF_001226605.1 100%[===================>]   1.79K  --.-KB/s    in 0.02s   \n",
            "\n",
            "2022-10-04 19:13:24 (98.7 KB/s) - ‘605/GCF_001226605.1_4395_5_10/GCF_001226605.1_4395_5_10_assembly_structure/Primary_Assembly/scaffold_localID2acc’ saved [1829]\n",
            "\n",
            "--2022-10-04 19:13:24--  ftp://ftp.ncbi.nlm.nih.gov/genomes/all/GCF/001/226/605/GCF_001226605.1_4395_5_10/GCF_001226605.1_4395_5_10_assembly_structure/Primary_Assembly/unplaced_scaffolds/\n",
            "           => ‘605/GCF_001226605.1_4395_5_10/GCF_001226605.1_4395_5_10_assembly_structure/Primary_Assembly/unplaced_scaffolds/.listing’\n",
            "==> CWD (1) /genomes/all/GCF/001/226/605/GCF_001226605.1_4395_5_10/GCF_001226605.1_4395_5_10_assembly_structure/Primary_Assembly/unplaced_scaffolds ... done.\n",
            "==> PASV ... done.    ==> LIST ... done.\n",
            "\n",
            "605/GCF_001226605.1     [ <=>                ]     124  --.-KB/s    in 0.004s  \n",
            "\n",
            "2022-10-04 19:13:24 (32.0 KB/s) - ‘605/GCF_001226605.1_4395_5_10/GCF_001226605.1_4395_5_10_assembly_structure/Primary_Assembly/unplaced_scaffolds/.listing’ saved [124]\n",
            "\n",
            "Removed ‘605/GCF_001226605.1_4395_5_10/GCF_001226605.1_4395_5_10_assembly_structure/Primary_Assembly/unplaced_scaffolds/.listing’.\n",
            "--2022-10-04 19:13:24--  ftp://ftp.ncbi.nlm.nih.gov/genomes/all/GCF/001/226/605/GCF_001226605.1_4395_5_10/GCF_001226605.1_4395_5_10_assembly_structure/Primary_Assembly/unplaced_scaffolds/AGP/\n",
            "           => ‘605/GCF_001226605.1_4395_5_10/GCF_001226605.1_4395_5_10_assembly_structure/Primary_Assembly/unplaced_scaffolds/AGP/.listing’\n",
            "==> CWD (1) /genomes/all/GCF/001/226/605/GCF_001226605.1_4395_5_10/GCF_001226605.1_4395_5_10_assembly_structure/Primary_Assembly/unplaced_scaffolds/AGP ... done.\n",
            "==> PASV ... done.    ==> LIST ... done.\n",
            "\n",
            "605/GCF_001226605.1     [ <=>                ]      78  --.-KB/s    in 0.01s   \n",
            "\n",
            "2022-10-04 19:13:25 (7.37 KB/s) - ‘605/GCF_001226605.1_4395_5_10/GCF_001226605.1_4395_5_10_assembly_structure/Primary_Assembly/unplaced_scaffolds/AGP/.listing’ saved [78]\n",
            "\n",
            "Removed ‘605/GCF_001226605.1_4395_5_10/GCF_001226605.1_4395_5_10_assembly_structure/Primary_Assembly/unplaced_scaffolds/AGP/.listing’.\n",
            "--2022-10-04 19:13:25--  ftp://ftp.ncbi.nlm.nih.gov/genomes/all/GCF/001/226/605/GCF_001226605.1_4395_5_10/GCF_001226605.1_4395_5_10_assembly_structure/Primary_Assembly/unplaced_scaffolds/AGP/unplaced.scaf.agp.gz\n",
            "           => ‘605/GCF_001226605.1_4395_5_10/GCF_001226605.1_4395_5_10_assembly_structure/Primary_Assembly/unplaced_scaffolds/AGP/unplaced.scaf.agp.gz’\n",
            "==> CWD not required.\n",
            "==> PASV ... done.    ==> RETR unplaced.scaf.agp.gz ... done.\n",
            "Length: 839\n",
            "\n",
            "605/GCF_001226605.1 100%[===================>]     839  --.-KB/s    in 0.04s   \n",
            "\n",
            "2022-10-04 19:13:25 (18.7 KB/s) - ‘605/GCF_001226605.1_4395_5_10/GCF_001226605.1_4395_5_10_assembly_structure/Primary_Assembly/unplaced_scaffolds/AGP/unplaced.scaf.agp.gz’ saved [839]\n",
            "\n",
            "--2022-10-04 19:13:25--  ftp://ftp.ncbi.nlm.nih.gov/genomes/all/GCF/001/226/605/GCF_001226605.1_4395_5_10/GCF_001226605.1_4395_5_10_assembly_structure/Primary_Assembly/unplaced_scaffolds/FASTA/\n",
            "           => ‘605/GCF_001226605.1_4395_5_10/GCF_001226605.1_4395_5_10_assembly_structure/Primary_Assembly/unplaced_scaffolds/FASTA/.listing’\n",
            "==> CWD (1) /genomes/all/GCF/001/226/605/GCF_001226605.1_4395_5_10/GCF_001226605.1_4395_5_10_assembly_structure/Primary_Assembly/unplaced_scaffolds/FASTA ... done.\n",
            "==> PASV ... done.    ==> LIST ... done.\n",
            "\n",
            "605/GCF_001226605.1     [ <=>                ]      78  --.-KB/s    in 0.02s   \n",
            "\n",
            "2022-10-04 19:13:26 (4.93 KB/s) - ‘605/GCF_001226605.1_4395_5_10/GCF_001226605.1_4395_5_10_assembly_structure/Primary_Assembly/unplaced_scaffolds/FASTA/.listing’ saved [78]\n",
            "\n",
            "Removed ‘605/GCF_001226605.1_4395_5_10/GCF_001226605.1_4395_5_10_assembly_structure/Primary_Assembly/unplaced_scaffolds/FASTA/.listing’.\n",
            "--2022-10-04 19:13:26--  ftp://ftp.ncbi.nlm.nih.gov/genomes/all/GCF/001/226/605/GCF_001226605.1_4395_5_10/GCF_001226605.1_4395_5_10_assembly_structure/Primary_Assembly/unplaced_scaffolds/FASTA/unplaced.scaf.fna.gz\n",
            "           => ‘605/GCF_001226605.1_4395_5_10/GCF_001226605.1_4395_5_10_assembly_structure/Primary_Assembly/unplaced_scaffolds/FASTA/unplaced.scaf.fna.gz’\n",
            "==> CWD not required.\n",
            "==> PASV ... done.    ==> RETR unplaced.scaf.fna.gz ... done.\n",
            "Length: 801835 (783K)\n",
            "\n",
            "605/GCF_001226605.1 100%[===================>] 783.04K  1.20MB/s    in 0.6s    \n",
            "\n",
            "2022-10-04 19:13:27 (1.20 MB/s) - ‘605/GCF_001226605.1_4395_5_10/GCF_001226605.1_4395_5_10_assembly_structure/Primary_Assembly/unplaced_scaffolds/FASTA/unplaced.scaf.fna.gz’ saved [801835]\n",
            "\n",
            "FINISHED --2022-10-04 19:13:27--\n",
            "Total wall clock time: 18s\n",
            "Downloaded: 24 files, 7.3M in 6.1s (1.20 MB/s)\n",
            "gzip: ./GCF_001226605.1_4395_5_10.gz: No such file or directory\n"
          ]
        }
      ]
    },
    {
      "cell_type": "markdown",
      "source": [],
      "metadata": {
        "id": "-bqXkkSlSqtp"
      }
    },
    {
      "cell_type": "markdown",
      "source": [
        "# Work with genome"
      ],
      "metadata": {
        "id": "s08vhKThUdQZ"
      }
    },
    {
      "cell_type": "markdown",
      "source": [],
      "metadata": {
        "id": "7tWZ7y9oUfnq"
      }
    },
    {
      "cell_type": "code",
      "source": [
        "%%bash\n",
        "cd \"605/GCF_001226605.1_4395_5_10/\"\n",
        "cat ./GCF_001226605.1_4395_5_10_cds_from_genomic.fna | wc -l"
      ],
      "metadata": {
        "colab": {
          "base_uri": "https://localhost:8080/"
        },
        "id": "FUSAgCafUfI6",
        "outputId": "67eee59a-46fc-434b-9123-095f485cce87"
      },
      "execution_count": 3,
      "outputs": [
        {
          "output_type": "stream",
          "name": "stdout",
          "text": [
            "33121\n"
          ]
        }
      ]
    },
    {
      "cell_type": "code",
      "source": [
        "%cd 605/GCF_001226605.1_4395_5_10/"
      ],
      "metadata": {
        "colab": {
          "base_uri": "https://localhost:8080/"
        },
        "id": "QJZWzbXVVnbJ",
        "outputId": "89b70b76-ea9d-4d96-cee0-f5ae816898a9"
      },
      "execution_count": 4,
      "outputs": [
        {
          "output_type": "stream",
          "name": "stdout",
          "text": [
            "/content/605/GCF_001226605.1_4395_5_10\n"
          ]
        }
      ]
    },
    {
      "cell_type": "code",
      "source": [
        "!cat GCF_001226605.1_4395_5_10_cds_from_genomic.fna | wc -c"
      ],
      "metadata": {
        "colab": {
          "base_uri": "https://localhost:8080/"
        },
        "id": "gw9R4b12a_A7",
        "outputId": "43227d59-cc75-4190-f8a9-443d3529a647"
      },
      "execution_count": 5,
      "outputs": [
        {
          "output_type": "stream",
          "name": "stdout",
          "text": [
            "2866081\n"
          ]
        }
      ]
    },
    {
      "cell_type": "markdown",
      "source": [
        "# Let's do something not so useless now!"
      ],
      "metadata": {
        "id": "e2eTZzbT_ZM3"
      }
    },
    {
      "cell_type": "markdown",
      "source": [
        "### Find genome length"
      ],
      "metadata": {
        "id": "OJiY83xgOE37"
      }
    },
    {
      "cell_type": "markdown",
      "source": [
        "If we use \"!cat\" and \"wc\", we get a wrong answer, because there are some rows with \">\"-symbol in the begining. That's why use some Python"
      ],
      "metadata": {
        "id": "XKL96ZyH_fCM"
      }
    },
    {
      "cell_type": "code",
      "source": [
        "!head -n 15 GCF_001226605.1_4395_5_10_cds_from_genomic.fna"
      ],
      "metadata": {
        "colab": {
          "base_uri": "https://localhost:8080/"
        },
        "id": "qgR4fckdEM6Z",
        "outputId": "4f645c97-b060-44a1-dde0-fed1ed40b5b4"
      },
      "execution_count": 8,
      "outputs": [
        {
          "output_type": "stream",
          "name": "stdout",
          "text": [
            ">lcl|NZ_CTUI01000001.1_cds_1 [locus_tag=AK379_RS14450] [protein=hypothetical protein] [pseudo=true] [frame=3] [location=<1..101] [gbkey=CDS]\n",
            "CAATTAACTAACAAAAAACAACGTGTGAAAGTTGTGAAAGAAGTTGTGGATAGAACTGACTTGTCATCTGATAAAACAGT\n",
            "TGATAGCGAAACAATGTAA\n",
            ">lcl|NZ_CTUI01000001.1_cds_WP_000340977.1_2 [locus_tag=AK379_RS00010] [protein=hypothetical protein] [protein_id=WP_000340977.1] [location=157..531] [gbkey=CDS]\n",
            "TTGGATGATATTCAGAAAATAAAAAAAGAGCTTTCTGAATTAGTTGAACGTGTTGATGATGTTGAAATACTAGCAAACGA\n",
            "AACAGCTGATCATGTGCTTGAACTTAGAGAGGAACATAAGCAACATCATAATGAACTAAGAGAATCTCATAAAGAACTTA\n",
            "AAGATAAGCAAGATAAAGTTGTAGATGAGAATTTAGAGCAAACAAAGATATTAAACAGAATTGAAGAAAGATATCAAACG\n",
            "CAAGTAGATGTTGCACAAAAAAATGAAGAAAAGACACTCGCCCAAAATAAATGGCTCGTAGGTGCCATATGGGCGCTTGT\n",
            "AACAATTGTTATGATTGCAGTCATTACTGCATCAATTACTGCGTTATTACCTTAA\n",
            ">lcl|NZ_CTUI01000001.1_cds_WP_000339141.1_3 [locus_tag=AK379_RS00015] [protein=phage holin] [protein_id=WP_000339141.1] [location=657..959] [gbkey=CDS]\n",
            "ATGGATGCAAAAGTAATAACAAGATACATCGTATTGATCTTAGCATTAGTAAATCAATTCTTAGCGAACAAAGGTATTAG\n",
            "CCCGATTCCAGTAGACGATGAGACTATATCATCAATAATACTTACTGTTGTTGCTTTATATACTACGTATAAAGACAATC\n",
            "CAACATCTCAAGAAGGTAAATGGGCAAATCAAAAGCTAAAGAAATATAAAGCTGAAAACAAGTATAGAAAAGCAACAGGG\n",
            "CAAGCGCCAATTAAAGAAGTAATGACACCTACGAATATGAACGACACAAATGATTTAGGGTAG\n",
            ">lcl|NZ_CTUI01000001.1_cds_WP_000909204.1_4 [locus_tag=AK379_RS00020] [protein=N-acetylmuramoyl-L-alanine amidase] [protein_id=WP_000909204.1] [location=970..2424] [gbkey=CDS]\n"
          ]
        }
      ]
    },
    {
      "cell_type": "code",
      "source": [
        "result = 0\n",
        "with open(\"GCF_001226605.1_4395_5_10_cds_from_genomic.fna\", 'r') as f:\n",
        "    lines = f.readlines()\n",
        "    for line in lines:\n",
        "        if line[0] != '>':\n",
        "            result += len(line)\n",
        "print(\"genome length = \", result)"
      ],
      "metadata": {
        "colab": {
          "base_uri": "https://localhost:8080/"
        },
        "id": "mnnoBwJd_xfX",
        "outputId": "28ca39b8-56f4-4b15-de04-a013816958d6"
      },
      "execution_count": 6,
      "outputs": [
        {
          "output_type": "stream",
          "name": "stdout",
          "text": [
            "genome length =  2360686\n"
          ]
        }
      ]
    },
    {
      "cell_type": "markdown",
      "source": [
        "### How many genes there are?"
      ],
      "metadata": {
        "id": "7AUo6e6FOL-u"
      }
    },
    {
      "cell_type": "markdown",
      "source": [
        "No we will try to find all rows in \"*_feature_table.txt\" where \"gene\" in the first column.\n",
        "\n",
        "If we write this code, we get wrong answer, because of word \"gene\" in some rows on wrong position"
      ],
      "metadata": {
        "id": "41Oxphn3t7NH"
      }
    },
    {
      "cell_type": "code",
      "source": [
        "!cat GCF_001226605.1_4395_5_10_feature_table.txt | grep \"\\gene\" | wc -l"
      ],
      "metadata": {
        "colab": {
          "base_uri": "https://localhost:8080/"
        },
        "id": "G_GfSLjtuJ7q",
        "outputId": "ab3b37b7-7350-45c0-b1d1-5ca028df3b3e"
      },
      "execution_count": 10,
      "outputs": [
        {
          "output_type": "stream",
          "name": "stdout",
          "text": [
            "2728\n"
          ]
        }
      ]
    },
    {
      "cell_type": "markdown",
      "source": [
        "For example previous code allows us to get rows with word \"biogenesis\" somewhere instead of \"gene\"."
      ],
      "metadata": {
        "id": "cNjA4g0QuQd0"
      }
    },
    {
      "cell_type": "code",
      "source": [
        "!cat GCF_001226605.1_4395_5_10_feature_table.txt | grep \"\\gene\" | grep \"CDS\""
      ],
      "metadata": {
        "colab": {
          "base_uri": "https://localhost:8080/"
        },
        "id": "a0PQoJZzuMO8",
        "outputId": "65eb7ce8-842d-4a84-f675-2246b089b559"
      },
      "execution_count": 11,
      "outputs": [
        {
          "output_type": "stream",
          "name": "stdout",
          "text": [
            "CDS\twith_protein\tGCF_001226605.1\tPrimary Assembly\tunplaced scaffold\t\tNZ_CTUI01000001.1\t19259\t20569\t+\tWP_000165530.1\tWP_000165530.1\t\tribosome biogenesis GTPase Der\tder\t\tAK379_RS00130\t1311\t436\t\n",
            "CDS\twith_protein\tGCF_001226605.1\tPrimary Assembly\tunplaced scaffold\t\tNZ_CTUI01000005.1\t25758\t26165\t+\tWP_000763768.1\tWP_000763768.1\t\tgeneral stress protein\t\t\tAK379_RS03740\t408\t135\t\n",
            "CDS\twith_protein\tGCF_001226605.1\tPrimary Assembly\tunplaced scaffold\t\tNZ_CTUI01000009.1\t20823\t21413\t+\tWP_000867695.1\tWP_000867695.1\t\tribosome biogenesis GTP-binding protein YihA/YsxC\tyihA\t\tAK379_RS05985\t591\t196\t\n",
            "CDS\twith_protein\tGCF_001226605.1\tPrimary Assembly\tunplaced scaffold\t\tNZ_CTUI01000009.1\t22998\t23813\t+\tWP_001157329.1\tWP_001157329.1\t\tcytochrome c biogenesis protein\t\t\tAK379_RS05995\t816\t271\t\n",
            "CDS\twith_protein\tGCF_001226605.1\tPrimary Assembly\tunplaced scaffold\t\tNZ_CTUI01000009.1\t89389\t90489\t+\tWP_001280141.1\tWP_001280141.1\t\tribosome biogenesis GTPase YqeH\tyqeH\t\tAK379_RS06350\t1101\t366\t\n",
            "CDS\twith_protein\tGCF_001226605.1\tPrimary Assembly\tunplaced scaffold\t\tNZ_CTUI01000010.1\t33627\t34511\t+\tWP_000236718.1\tWP_000236718.1\t\tribosome biogenesis GTPase YlqF\tylqF\t\tAK379_RS06545\t885\t294\t\n",
            "CDS\twith_protein\tGCF_001226605.1\tPrimary Assembly\tunplaced scaffold\t\tNZ_CTUI01000026.1\t19767\t20420\t-\tWP_000157650.1\tWP_000157650.1\t\t50S ribosomal protein L25/general stress protein Ctc\t\t\tAK379_RS11525\t654\t217\t\n",
            "CDS\twith_protein\tGCF_001226605.1\tPrimary Assembly\tunplaced scaffold\t\tNZ_CTUI01000027.1\t24846\t25415\t+\tWP_001105713.1\tWP_001105713.1\t\taccessory gene regulator AgrB\tagrB\t\tAK379_RS11780\t570\t189\t\n",
            "CDS\twithout_protein\tGCF_001226605.1\tPrimary Assembly\tunplaced scaffold\t\tNZ_CTUI01000056.1\t450\t866\t-\t\t\t\tphage head morphogenesis protein\t\t\tAK379_RS14185\t417\t\tpartial;pseudo\n"
          ]
        }
      ]
    },
    {
      "cell_type": "markdown",
      "source": [
        "That's why we use some Python :)"
      ],
      "metadata": {
        "id": "x5JJErpNvGF2"
      }
    },
    {
      "cell_type": "code",
      "source": [
        "f = open(\"GCF_001226605.1_4395_5_10_feature_table.txt\", 'r')\n",
        "g = open(\"file_with_gene.txt\", 'w')\n",
        "lines = f.readlines()\n",
        "result = 0\n",
        "for line in lines:\n",
        "    if (line.split()[0] == 'gene'):\n",
        "        result += 1\n",
        "        g.write(line)\n",
        "print(result)\n",
        "g.close()\n",
        "        "
      ],
      "metadata": {
        "colab": {
          "base_uri": "https://localhost:8080/"
        },
        "id": "7aAGXm-hTOag",
        "outputId": "4b807299-58b8-4fbb-8aa9-3f8d13669892"
      },
      "execution_count": 12,
      "outputs": [
        {
          "output_type": "stream",
          "name": "stdout",
          "text": [
            "2719\n"
          ]
        }
      ]
    },
    {
      "cell_type": "markdown",
      "source": [
        "Now we created a file named 'file_with_gene.txt', that contains every row with 'gene' in first column."
      ],
      "metadata": {
        "id": "e6LHn-K22OkC"
      }
    },
    {
      "cell_type": "markdown",
      "source": [
        "### How many genes encodes the proteins"
      ],
      "metadata": {
        "id": "VKbNUHD-OZqZ"
      }
    },
    {
      "cell_type": "markdown",
      "source": [
        "Find protein coding genes."
      ],
      "metadata": {
        "id": "bd-XAL2-xsMT"
      }
    },
    {
      "cell_type": "code",
      "source": [
        "!cat file_with_gene.txt | grep \"\\protein_coding\" | wc -l"
      ],
      "metadata": {
        "colab": {
          "base_uri": "https://localhost:8080/"
        },
        "id": "EodDgT5oxwqi",
        "outputId": "5ef922c6-fbd0-4189-9d5d-79ea3e19b04c"
      },
      "execution_count": 13,
      "outputs": [
        {
          "output_type": "stream",
          "name": "stdout",
          "text": [
            "2593\n"
          ]
        }
      ]
    },
    {
      "cell_type": "markdown",
      "source": [
        "### How many RNA-genes are there?"
      ],
      "metadata": {
        "id": "sDwwDmiIOfjk"
      }
    },
    {
      "cell_type": "markdown",
      "source": [
        "Find RNA-genes."
      ],
      "metadata": {
        "id": "8guM9OLyx-TZ"
      }
    },
    {
      "cell_type": "code",
      "source": [
        "!cat file_with_gene.txt | grep \"RNA\" | wc -l"
      ],
      "metadata": {
        "colab": {
          "base_uri": "https://localhost:8080/"
        },
        "id": "kEf5dx7byGXu",
        "outputId": "d5bee09c-b3b3-4dc6-e82c-5eac506bb9ad"
      },
      "execution_count": 14,
      "outputs": [
        {
          "output_type": "stream",
          "name": "stdout",
          "text": [
            "38\n"
          ]
        }
      ]
    },
    {
      "cell_type": "markdown",
      "source": [],
      "metadata": {
        "id": "nU6LNGzqyFwf"
      }
    },
    {
      "cell_type": "markdown",
      "source": [
        "### How many transcriptional regulators are there"
      ],
      "metadata": {
        "id": "vGTNeVnhV0tW"
      }
    },
    {
      "cell_type": "markdown",
      "source": [
        "Find transcriptional regulators."
      ],
      "metadata": {
        "id": "e2gFYpDnV93F"
      }
    },
    {
      "cell_type": "code",
      "source": [
        "!cat GCF_001226605.1_4395_5_10_feature_table.txt | grep \"transcriptional regulator\"  | wc -l"
      ],
      "metadata": {
        "colab": {
          "base_uri": "https://localhost:8080/"
        },
        "id": "3JVkYBpCV846",
        "outputId": "f3ac2097-77b8-4b13-9e87-391f3d6a60b2"
      },
      "execution_count": 21,
      "outputs": [
        {
          "output_type": "stream",
          "name": "stdout",
          "text": [
            "75\n"
          ]
        }
      ]
    },
    {
      "cell_type": "markdown",
      "source": [
        "### How many ABC-transporters are there?\n"
      ],
      "metadata": {
        "id": "YkDcGB4cYMpL"
      }
    },
    {
      "cell_type": "markdown",
      "source": [
        "Find ABC-transporters."
      ],
      "metadata": {
        "id": "MqTexUtcYhVV"
      }
    },
    {
      "cell_type": "code",
      "source": [
        "!cat GCF_001226605.1_4395_5_10_feature_table.txt | grep \"ABC transporter\" | wc -l"
      ],
      "metadata": {
        "colab": {
          "base_uri": "https://localhost:8080/"
        },
        "id": "BrzFpkXnYgaq",
        "outputId": "c6edb59e-d31f-4c03-f4cc-19a6f8ca4923"
      },
      "execution_count": 24,
      "outputs": [
        {
          "output_type": "stream",
          "name": "stdout",
          "text": [
            "130\n"
          ]
        }
      ]
    },
    {
      "cell_type": "markdown",
      "source": [
        "### How many tRNA are there?"
      ],
      "metadata": {
        "id": "nclgR_fLY08O"
      }
    },
    {
      "cell_type": "markdown",
      "source": [
        "Find tRNA.\n"
      ],
      "metadata": {
        "id": "FCMPiADZY6RE"
      }
    },
    {
      "cell_type": "code",
      "source": [
        "!cat GCF_001226605.1_4395_5_10_feature_table.txt | grep \"tRNA\" | grep \"CDS\" | wc -l"
      ],
      "metadata": {
        "colab": {
          "base_uri": "https://localhost:8080/"
        },
        "id": "-QEIOdXLY9r8",
        "outputId": "df1182d4-9afc-423a-817d-852851b0fd9d"
      },
      "execution_count": 32,
      "outputs": [
        {
          "output_type": "stream",
          "name": "stdout",
          "text": [
            "55\n"
          ]
        }
      ]
    },
    {
      "cell_type": "code",
      "source": [
        "result = 0\n",
        "with open(\"GCF_001226605.1_4395_5_10_feature_table.txt\", 'r') as f:\n",
        "    lines = f.readlines()\n",
        "    for line in lines:\n",
        "        if line.count('tRNA')>= 1 and (line.split()[0] == 'tRNA' or line.split()[0] == 'gene'):\n",
        "            result += 1\n",
        "print(result)"
      ],
      "metadata": {
        "colab": {
          "base_uri": "https://localhost:8080/"
        },
        "id": "QxJoj43JZ_xG",
        "outputId": "8dc1badd-8062-4665-a542-7b6a777f21e1"
      },
      "execution_count": 33,
      "outputs": [
        {
          "output_type": "stream",
          "name": "stdout",
          "text": [
            "60\n"
          ]
        }
      ]
    },
    {
      "cell_type": "markdown",
      "source": [
        "### How many ATP-synthase are there?"
      ],
      "metadata": {
        "id": "-7ZRDme6ZghK"
      }
    },
    {
      "cell_type": "markdown",
      "source": [
        "Find APT-synthase."
      ],
      "metadata": {
        "id": "r3mG5lDCZt5D"
      }
    },
    {
      "cell_type": "code",
      "source": [
        "!cat GCF_001226605.1_4395_5_10_feature_table.txt | grep \"APT-synthase\" | wc -l"
      ],
      "metadata": {
        "colab": {
          "base_uri": "https://localhost:8080/"
        },
        "id": "LPPdx2jrZv36",
        "outputId": "d18cb1a6-5d2a-4785-8471-9b7dc0edd1d3"
      },
      "execution_count": 36,
      "outputs": [
        {
          "output_type": "stream",
          "name": "stdout",
          "text": [
            "0\n"
          ]
        }
      ]
    },
    {
      "cell_type": "markdown",
      "source": [
        "### How many genes was encoded on '$+$'-strend, '$-$'-strend?"
      ],
      "metadata": {
        "id": "NesulS7vbdbQ"
      }
    },
    {
      "cell_type": "markdown",
      "source": [
        "There is the problem we can face with. Somewhere in finding \"+\" strand and \"-\" strand there are more than one sign. For example there are some rows where we can find both of them: "
      ],
      "metadata": {
        "id": "gzpwnNdrtIAO"
      }
    },
    {
      "cell_type": "code",
      "source": [
        "!cat file_with_gene.txt | grep \"+\" | grep \"-\""
      ],
      "metadata": {
        "colab": {
          "base_uri": "https://localhost:8080/"
        },
        "id": "WLe9RzGFtHCv",
        "outputId": "7c28d2e0-eda1-4b19-ea04-8a7ff458f4cf"
      },
      "execution_count": 37,
      "outputs": [
        {
          "output_type": "stream",
          "name": "stdout",
          "text": [
            "gene\tprotein_coding\tGCF_001226605.1\tPrimary Assembly\tunplaced scaffold\t\tNZ_CTUI01000001.1\t2889\t3827\t+\t\t\t\t\tlukS-PV\t\tAK379_RS00025\t939\t\t\n",
            "gene\tprotein_coding\tGCF_001226605.1\tPrimary Assembly\tunplaced scaffold\t\tNZ_CTUI01000001.1\t3823\t4806\t+\t\t\t\t\tlukF-PV\t\tAK379_RS00030\t984\t\t\n",
            "gene\tprotein_coding\tGCF_001226605.1\tPrimary Assembly\tunplaced scaffold\t\tNZ_CTUI01000027.1\t35706\t37634\t+\t\t\t\t\tabc-f\t\tAK379_RS11840\t1929\t\t\n"
          ]
        }
      ]
    },
    {
      "cell_type": "markdown",
      "source": [
        "That's why we use Python again."
      ],
      "metadata": {
        "id": "Jv3eJiT_cFTZ"
      }
    },
    {
      "cell_type": "code",
      "source": [
        "with open(\"file_with_gene.txt\") as g:\n",
        "    lines = g.readlines()\n",
        "    plus_strend = 0\n",
        "    minus_strend = 0\n",
        "    for line in lines:\n",
        "        # if (line.count(\"-\") + line.count(\"+\") > 1):\n",
        "        #     print(line)\n",
        "        if line.split('\\t')[9] == '+':\n",
        "            plus_strend += 1\n",
        "        else:\n",
        "            minus_strend += 1\n",
        "\n",
        "print(\" =\\t\", plus_strend)\n",
        "print(minus_strend)"
      ],
      "metadata": {
        "colab": {
          "base_uri": "https://localhost:8080/"
        },
        "id": "RK0C2xzHj9fA",
        "outputId": "7a7b32fc-d94e-4a87-cd92-d69c64f5b524"
      },
      "execution_count": 39,
      "outputs": [
        {
          "output_type": "stream",
          "name": "stdout",
          "text": [
            "1391\n",
            "1328\n"
          ]
        }
      ]
    },
    {
      "cell_type": "markdown",
      "source": [
        "That's what we exactly desired!\n",
        "\n",
        "$1391 + 1328 = 2719$"
      ],
      "metadata": {
        "id": "X2VXZbzIwbK9"
      }
    },
    {
      "cell_type": "markdown",
      "source": [
        "# The part about Homo Sapiens"
      ],
      "metadata": {
        "id": "hveNTD9MOrmD"
      }
    },
    {
      "cell_type": "markdown",
      "source": [
        "Gene = 'NRAS'"
      ],
      "metadata": {
        "id": "qmPvG-LxO0G_"
      }
    }
  ]
}